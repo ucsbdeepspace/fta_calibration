{
 "cells": [
  {
   "cell_type": "code",
   "execution_count": 13,
   "metadata": {},
   "outputs": [
    {
     "name": "stdout",
     "output_type": "stream",
     "text": [
      "Using matplotlib backend: Qt5Agg\n",
      "Populating the interactive namespace from numpy and matplotlib\n"
     ]
    }
   ],
   "source": [
    "%pylab"
   ]
  },
  {
   "cell_type": "code",
   "execution_count": 1,
   "metadata": {},
   "outputs": [],
   "source": [
    "from past.utils import old_div\n",
    "\n",
    "import os\n",
    "import sys\n",
    "from time import sleep\n",
    "import h5py\n",
    "from scipy import optimize\n",
    "from scipy.optimize import curve_fit\n",
    "import cv2\n",
    "from time import sleep\n",
    "import time\n",
    "from IPython.display import display, clear_output\n",
    "method = eval('cv2.TM_CCOEFF_NORMED')\n"
   ]
  },
  {
   "cell_type": "code",
   "execution_count": 3,
   "metadata": {},
   "outputs": [
    {
     "name": "stdout",
     "output_type": "stream",
     "text": [
      "c:\\Spectradyne\\code\n"
     ]
    }
   ],
   "source": [
    "cd ../../code"
   ]
  },
  {
   "cell_type": "code",
   "execution_count": 4,
   "metadata": {},
   "outputs": [],
   "source": [
    "def rotate_image(image, angle):\n",
    "    image_center = tuple(old_div(np.array(image.shape[1::-1]), 2))\n",
    "    rot_mat = cv2.getRotationMatrix2D(image_center, angle, 1.0)\n",
    "    result = cv2.warpAffine(image, rot_mat, image.shape[1::-1], flags=cv2.INTER_LINEAR)\n",
    "    return result"
   ]
  },
  {
   "cell_type": "code",
   "execution_count": 5,
   "metadata": {},
   "outputs": [],
   "source": [
    "import spectradyne.util.util_image_processing as image_processing"
   ]
  },
  {
   "cell_type": "code",
   "execution_count": 6,
   "metadata": {},
   "outputs": [],
   "source": [
    "def get_nc_coords(input_image, input_template,titletext):\n",
    "    \"\"\"use open CV correlation method to match known template to image,\n",
    "    assume NC is center of template, but now include +- 5degrees of\n",
    "    rotation if needed.\n",
    "    Note we're now (10/27/20) normalizing the image by removing the offest and fitting into  8 bits\n",
    "    \"\"\"\n",
    "    method = eval('cv2.TM_CCOEFF_NORMED')\n",
    "    imgn = input_image.copy()\n",
    "    imgn = imgn - np.min(imgn)\n",
    "    imgn = imgn * (old_div(256., np.max(imgn)))\n",
    "    img = np.uint8(imgn)\n",
    "    template = np.uint8(input_template.copy())\n",
    "    w, h = template.shape[::-1]\n",
    "    alist = []\n",
    "    cclist = []\n",
    "    for a in range(-5, 5, 1):\n",
    "        rtemplate = rotate_image(template, a)\n",
    "        res = cv2.matchTemplate(img, rtemplate, method)\n",
    "        min_val, max_val, min_loc, max_loc = cv2.minMaxLoc(np.abs(res))\n",
    "        alist.append(a)\n",
    "        cclist.append(max_val)\n",
    "        #print('angle, degrees, NC coords,cc',a,max_loc,max_val)\n",
    "    best_angle = alist[cclist.index(max(cclist))]\n",
    "    rtemplate = rotate_image(template, best_angle)\n",
    "    # Apply template Matching\n",
    "    res = cv2.matchTemplate(img, rtemplate, method)\n",
    "    figure()\n",
    "    title(titletext)\n",
    "    imshow(res)\n",
    "    savefig(titletext+'.png')\n",
    "    min_val, max_val, min_loc, max_loc = cv2.minMaxLoc(np.abs(res))\n",
    "    # print(min_val,max_val)\n",
    "    nc_xy_ccval = (max_loc[0] + old_div(w, 2), max_loc[1] + old_div(h, 2), max_val)\n",
    "    print(nc_xy_ccval)\n",
    "    return res,nc_xy_ccval  # This is a 3-component tuple"
   ]
  },
  {
   "cell_type": "code",
   "execution_count": 7,
   "metadata": {},
   "outputs": [],
   "source": [
    "def make_template(image, nc_xy_tuple):\n",
    "   \n",
    "    template = image[nc_xy_tuple[1] - 50:nc_xy_tuple[1] + 50, nc_xy_tuple[0] - 240:nc_xy_tuple[0] + 240, 1]\n",
    "    cut=0.7*(np.max(template)-np.min(template))\n",
    "    bintemplate=template-np.min(template)\n",
    "    bintemplate[bintemplate <cut]=0\n",
    "    bintemplate[bintemplate >= cut]=1\n",
    "    bintemplate[:,195:285]=0\n",
    "    \n",
    "    return template"
   ]
  },
  {
   "cell_type": "code",
   "execution_count": 218,
   "metadata": {},
   "outputs": [
    {
     "data": {
      "text/plain": [
       "<matplotlib.image.AxesImage at 0x257b5476048>"
      ]
     },
     "execution_count": 218,
     "metadata": {},
     "output_type": "execute_result"
    }
   ],
   "source": [
    "figure()\n",
    "imshow(tmp)"
   ]
  },
  {
   "cell_type": "code",
   "execution_count": 242,
   "metadata": {},
   "outputs": [
    {
     "data": {
      "text/plain": [
       "(100, 480)"
      ]
     },
     "execution_count": 242,
     "metadata": {},
     "output_type": "execute_result"
    }
   ],
   "source": [
    "tmp.shape"
   ]
  },
  {
   "cell_type": "code",
   "execution_count": 238,
   "metadata": {},
   "outputs": [],
   "source": [
    "figure()\n",
    "diffs_low=abs((1.0*tmp[:50,75] - 1.0*tmp[4:54,75]))\n",
    "diffs_high=abs((1.0*tmp[50:-4,75] - 1.0*tmp[54:,75]))"
   ]
  },
  {
   "cell_type": "code",
   "execution_count": 14,
   "metadata": {},
   "outputs": [],
   "source": [
    "ncxy=(704,484)\n",
    "tmp400=make_template(c400,ncxy)"
   ]
  },
  {
   "cell_type": "code",
   "execution_count": 15,
   "metadata": {},
   "outputs": [
    {
     "ename": "NameError",
     "evalue": "name 'diffs_low' is not defined",
     "output_type": "error",
     "traceback": [
      "\u001b[1;31m---------------------------------------------------------------------------\u001b[0m",
      "\u001b[1;31mNameError\u001b[0m                                 Traceback (most recent call last)",
      "\u001b[1;32m<ipython-input-15-ce7958276e97>\u001b[0m in \u001b[0;36m<module>\u001b[1;34m\u001b[0m\n\u001b[1;32m----> 1\u001b[1;33m \u001b[0mprint\u001b[0m\u001b[1;33m(\u001b[0m\u001b[0mnp\u001b[0m\u001b[1;33m.\u001b[0m\u001b[0margmax\u001b[0m\u001b[1;33m(\u001b[0m\u001b[0mdiffs_low\u001b[0m\u001b[1;33m)\u001b[0m\u001b[1;33m)\u001b[0m\u001b[1;33m\u001b[0m\u001b[1;33m\u001b[0m\u001b[0m\n\u001b[0m\u001b[0;32m      2\u001b[0m \u001b[0mprint\u001b[0m\u001b[1;33m(\u001b[0m\u001b[0mnp\u001b[0m\u001b[1;33m.\u001b[0m\u001b[0margmax\u001b[0m\u001b[1;33m(\u001b[0m\u001b[0mdiffs_high\u001b[0m\u001b[1;33m)\u001b[0m\u001b[1;33m+\u001b[0m\u001b[1;36m50\u001b[0m\u001b[1;33m)\u001b[0m\u001b[1;33m\u001b[0m\u001b[1;33m\u001b[0m\u001b[0m\n",
      "\u001b[1;31mNameError\u001b[0m: name 'diffs_low' is not defined"
     ]
    }
   ],
   "source": [
    "print(np.argmax(diffs_low))\n",
    "print(np.argmax(diffs_high)+50)\n"
   ]
  },
  {
   "cell_type": "code",
   "execution_count": 16,
   "metadata": {},
   "outputs": [
    {
     "name": "stdout",
     "output_type": "stream",
     "text": [
      "Using matplotlib backend: Qt5Agg\n",
      "Populating the interactive namespace from numpy and matplotlib\n"
     ]
    }
   ],
   "source": [
    "%pylab\n",
    "matplotlib.rcParams.update({'font.size': 22})"
   ]
  },
  {
   "cell_type": "code",
   "execution_count": 13,
   "metadata": {},
   "outputs": [],
   "source": [
    "f.close()"
   ]
  },
  {
   "cell_type": "code",
   "execution_count": 17,
   "metadata": {},
   "outputs": [
    {
     "data": {
      "text/plain": [
       "<matplotlib.image.AxesImage at 0x29ea5ce8a88>"
      ]
     },
     "execution_count": 17,
     "metadata": {},
     "output_type": "execute_result"
    }
   ],
   "source": [
    "figure()\n",
    "imshow(c400[:,:,1])"
   ]
  },
  {
   "cell_type": "code",
   "execution_count": 18,
   "metadata": {},
   "outputs": [],
   "source": [
    "fc400= h5py.File('C://Spectradyne//data//template_tests//NC_c400_1_20220511.h5','r')\n",
    "fc2000= h5py.File('C://Spectradyne//data//template_tests//NC_c2000_1_20220511.h5','r')\n",
    "ft400=h5py.File('C://Spectradyne//reffiles//nc_templates/NC_template_c400.h5','r')\n",
    "ft2000=h5py.File('C://Spectradyne//reffiles//nc_templates/NC_template_c2000.h5','r')"
   ]
  },
  {
   "cell_type": "code",
   "execution_count": 93,
   "metadata": {},
   "outputs": [
    {
     "data": {
      "text/plain": [
       "<KeysViewHDF5 ['Laser_data']>"
      ]
     },
     "execution_count": 93,
     "metadata": {},
     "output_type": "execute_result"
    }
   ],
   "source": [
    "fc2000.keys()"
   ]
  },
  {
   "cell_type": "code",
   "execution_count": 19,
   "metadata": {},
   "outputs": [],
   "source": [
    "t2000=ft2000['template'].value\n",
    "t400=ft400['template'].value\n",
    "c400=fc400['Laser_data'].value\n",
    "c2000=fc2000['Laser_data'].value\n"
   ]
  },
  {
   "cell_type": "code",
   "execution_count": 20,
   "metadata": {},
   "outputs": [
    {
     "ename": "TypeError",
     "evalue": "get_nc_coords() missing 1 required positional argument: 'titletext'",
     "output_type": "error",
     "traceback": [
      "\u001b[1;31m---------------------------------------------------------------------------\u001b[0m",
      "\u001b[1;31mTypeError\u001b[0m                                 Traceback (most recent call last)",
      "\u001b[1;32m<ipython-input-20-73e3568a53e3>\u001b[0m in \u001b[0;36m<module>\u001b[1;34m\u001b[0m\n\u001b[1;32m----> 1\u001b[1;33m \u001b[0mget_nc_coords\u001b[0m\u001b[1;33m(\u001b[0m\u001b[0mc400\u001b[0m\u001b[1;33m[\u001b[0m\u001b[1;33m:\u001b[0m\u001b[1;33m,\u001b[0m\u001b[1;33m:\u001b[0m\u001b[1;33m,\u001b[0m\u001b[1;36m1\u001b[0m\u001b[1;33m]\u001b[0m\u001b[1;33m,\u001b[0m\u001b[0mt400\u001b[0m\u001b[1;33m)\u001b[0m\u001b[1;33m\u001b[0m\u001b[1;33m\u001b[0m\u001b[0m\n\u001b[0m\u001b[0;32m      2\u001b[0m \u001b[0mget_nc_coords\u001b[0m\u001b[1;33m(\u001b[0m\u001b[0mc2000\u001b[0m\u001b[1;33m[\u001b[0m\u001b[1;33m:\u001b[0m\u001b[1;33m,\u001b[0m\u001b[1;33m:\u001b[0m\u001b[1;33m,\u001b[0m\u001b[1;36m1\u001b[0m\u001b[1;33m]\u001b[0m\u001b[1;33m,\u001b[0m\u001b[0mt2000\u001b[0m\u001b[1;33m)\u001b[0m\u001b[1;33m\u001b[0m\u001b[1;33m\u001b[0m\u001b[0m\n\u001b[0;32m      3\u001b[0m \u001b[0mget_nc_coords\u001b[0m\u001b[1;33m(\u001b[0m\u001b[0mc400\u001b[0m\u001b[1;33m[\u001b[0m\u001b[1;33m:\u001b[0m\u001b[1;33m,\u001b[0m\u001b[1;33m:\u001b[0m\u001b[1;33m,\u001b[0m\u001b[1;36m1\u001b[0m\u001b[1;33m]\u001b[0m\u001b[1;33m,\u001b[0m\u001b[0mt2000\u001b[0m\u001b[1;33m)\u001b[0m\u001b[1;33m\u001b[0m\u001b[1;33m\u001b[0m\u001b[0m\n\u001b[0;32m      4\u001b[0m \u001b[0mget_nc_coords\u001b[0m\u001b[1;33m(\u001b[0m\u001b[0mc2000\u001b[0m\u001b[1;33m[\u001b[0m\u001b[1;33m:\u001b[0m\u001b[1;33m,\u001b[0m\u001b[1;33m:\u001b[0m\u001b[1;33m,\u001b[0m\u001b[1;36m1\u001b[0m\u001b[1;33m]\u001b[0m\u001b[1;33m,\u001b[0m\u001b[0mt400\u001b[0m\u001b[1;33m)\u001b[0m\u001b[1;33m\u001b[0m\u001b[1;33m\u001b[0m\u001b[0m\n",
      "\u001b[1;31mTypeError\u001b[0m: get_nc_coords() missing 1 required positional argument: 'titletext'"
     ]
    }
   ],
   "source": [
    "get_nc_coords(c400[:,:,1],t400)\n",
    "get_nc_coords(c2000[:,:,1],t2000)\n",
    "get_nc_coords(c400[:,:,1],t2000)\n",
    "get_nc_coords(c2000[:,:,1],t400)"
   ]
  },
  {
   "cell_type": "code",
   "execution_count": 23,
   "metadata": {},
   "outputs": [
    {
     "name": "stdout",
     "output_type": "stream",
     "text": [
      "(704, 483, 0.5941752195358276)\n",
      "(array([[ 0.00429458,  0.00325966,  0.0025232 , ...,  0.01129717,\n",
      "         0.01164513,  0.01310185],\n",
      "       [ 0.00481146,  0.00336327,  0.00238963, ...,  0.01220155,\n",
      "         0.01355329,  0.01435778],\n",
      "       [ 0.00660232,  0.00480769,  0.00329151, ...,  0.01450304,\n",
      "         0.01528149,  0.0161702 ],\n",
      "       ...,\n",
      "       [-0.06435493, -0.05981618, -0.05440811, ...,  0.11752939,\n",
      "         0.11743502,  0.11688828],\n",
      "       [-0.06405526, -0.05899476, -0.05481724, ...,  0.11870895,\n",
      "         0.11855455,  0.11832998],\n",
      "       [-0.06379038, -0.0594117 , -0.05626228, ...,  0.11755481,\n",
      "         0.11756562,  0.11737734]], dtype=float32), (704, 483, 0.5941752195358276))\n",
      "(704, 492, 0.5977470278739929)\n",
      "(array([[ 2.9335637e-03,  1.5731647e-03, -8.4824947e-05, ...,\n",
      "         2.2186248e-02,  2.1402674e-02,  2.0908756e-02],\n",
      "       [ 2.9783095e-03,  1.1193929e-03, -4.9769919e-04, ...,\n",
      "         1.9858059e-02,  1.9500325e-02,  1.9184869e-02],\n",
      "       [ 2.6339064e-03,  8.0108788e-04, -7.9258246e-04, ...,\n",
      "         1.9493625e-02,  1.9153276e-02,  1.8533524e-02],\n",
      "       ...,\n",
      "       [ 7.7759765e-02,  7.6648153e-02,  7.5472116e-02, ...,\n",
      "         6.8358421e-02,  6.9967128e-02,  7.1620114e-02],\n",
      "       [ 7.8838341e-02,  7.7991597e-02,  7.7137373e-02, ...,\n",
      "         7.2086751e-02,  7.4249364e-02,  7.6451793e-02],\n",
      "       [ 7.9264700e-02,  7.8502484e-02,  7.7847026e-02, ...,\n",
      "         7.5983204e-02,  7.7912174e-02,  8.0130287e-02]], dtype=float32), (704, 492, 0.5977470278739929))\n",
      "(683, 477, 0.3693712651729584)\n",
      "(array([[ 0.00733572,  0.0060593 ,  0.00513714, ..., -0.00773031,\n",
      "        -0.0073755 , -0.00698941],\n",
      "       [ 0.00870577,  0.00741282,  0.00653488, ..., -0.00639446,\n",
      "        -0.00591622, -0.00550973],\n",
      "       [ 0.01041472,  0.00865899,  0.00762729, ..., -0.00479027,\n",
      "        -0.00426083, -0.00385637],\n",
      "       ...,\n",
      "       [-0.10774512, -0.10497268, -0.10262799, ...,  0.09197493,\n",
      "         0.09042116,  0.08900668],\n",
      "       [-0.10842073, -0.10597287, -0.10345214, ...,  0.09188331,\n",
      "         0.09031346,  0.08875098],\n",
      "       [-0.11030865, -0.1082021 , -0.10576049, ...,  0.09077606,\n",
      "         0.08924355,  0.08754564]], dtype=float32), (683, 477, 0.3693712651729584))\n",
      "(717, 488, 0.3833075761795044)\n",
      "(array([[0.02952471, 0.0290138 , 0.02841927, ..., 0.01670192, 0.01769466,\n",
      "        0.01796674],\n",
      "       [0.0284989 , 0.02745358, 0.02676433, ..., 0.01551803, 0.01691405,\n",
      "        0.01682709],\n",
      "       [0.02769719, 0.02669217, 0.02575653, ..., 0.01480059, 0.01577991,\n",
      "        0.01645922],\n",
      "       ...,\n",
      "       [0.06328025, 0.06178086, 0.06037037, ..., 0.11796641, 0.11985394,\n",
      "        0.12118996],\n",
      "       [0.06300867, 0.06151669, 0.05994229, ..., 0.12384895, 0.12582469,\n",
      "        0.12713905],\n",
      "       [0.06096988, 0.05975188, 0.05841351, ..., 0.12984265, 0.13183017,\n",
      "        0.13320597]], dtype=float32), (717, 488, 0.3833075761795044))\n"
     ]
    }
   ],
   "source": [
    "print(get_nc_coords(c400[:,:,1],t400blank,'C400 with C400 Template'))\n",
    "print(get_nc_coords(c2000[:,:,1],t2000blank,'C2000 with C2000 Template'))\n",
    "print(get_nc_coords(c400[:,:,1],t2000blank,'C400 with C2000 Template'))\n",
    "print(get_nc_coords(c2000[:,:,1],t400blank,'C2000 with C400 Template'))"
   ]
  },
  {
   "cell_type": "code",
   "execution_count": 210,
   "metadata": {},
   "outputs": [
    {
     "name": "stdout",
     "output_type": "stream",
     "text": [
      "(701, 493, 0.5707237720489502)\n"
     ]
    }
   ],
   "source": [
    "temp=remove_xchunk(t400blank,30)\n",
    "#print(get_nc_coords(c2000[:,:,1],t400blank))\n",
    "print(get_nc_coords(c2000[:,:,1],temp,'C2000 with C400 tmp,60 cols rmved'))"
   ]
  },
  {
   "cell_type": "code",
   "execution_count": 22,
   "metadata": {},
   "outputs": [],
   "source": [
    "t400blank=t400.copy()\n",
    "t400blank[:,195:285]=0\n",
    "t2000blank=t2000.copy()\n",
    "t2000blank[:,195:285]=0"
   ]
  },
  {
   "cell_type": "code",
   "execution_count": 179,
   "metadata": {},
   "outputs": [],
   "source": [
    "tst=remove_xchunk(t400blank,10)"
   ]
  },
  {
   "cell_type": "code",
   "execution_count": 205,
   "metadata": {},
   "outputs": [
    {
     "name": "stdout",
     "output_type": "stream",
     "text": [
      "c:\\Spectradyne\\Data\\template_tests\n"
     ]
    }
   ],
   "source": [
    "cd c://Spectradyne//Data/template_tests"
   ]
  },
  {
   "cell_type": "code",
   "execution_count": 208,
   "metadata": {},
   "outputs": [],
   "source": [
    "figure(figsize=[12,6])\n",
    "title('C400 template with blanking')\n",
    "imshow(t400blank)\n",
    "savefig('t400blank.png')\n",
    "t400blank_crop60=remove_xchunk(t400blank,30)\n",
    "\n",
    "figure(figsize=[12,6])\n",
    "title('C400 template with blanking, 60col cropped')\n",
    "imshow(t400blank_crop60)\n",
    "savefig('t400blank_crop60.png')\n",
    "\n",
    "\n",
    "figure(figsize=[12,6])\n",
    "title('C2000 template with blanking')\n",
    "imshow(t2000blank)\n",
    "savefig('t2000blank.png')"
   ]
  },
  {
   "cell_type": "code",
   "execution_count": 182,
   "metadata": {},
   "outputs": [
    {
     "name": "stdout",
     "output_type": "stream",
     "text": [
      "(100, 480)\n"
     ]
    },
    {
     "data": {
      "text/plain": [
       "<matplotlib.image.AxesImage at 0x257ee83a9c8>"
      ]
     },
     "execution_count": 182,
     "metadata": {},
     "output_type": "execute_result"
    }
   ],
   "source": [
    "print(t400blank.shape)\n",
    "figure()\n",
    "imshow(tst)"
   ]
  },
  {
   "cell_type": "code",
   "execution_count": 24,
   "metadata": {},
   "outputs": [],
   "source": [
    "def remove_xchunk(intemplate,npix):\n",
    "    #tool to cut out 2x npix from center (in x) of a template\n",
    "    nx,ny=intemplate.shape\n",
    "    ystart=int(ny/2) - npix\n",
    "    ystop=int(ny/2) + npix\n",
    "    outtemplate=np.concatenate([intemplate[:,:ystart],intemplate[:,ystop:]],axis=1)\n",
    "    return outtemplate\n",
    "    \n"
   ]
  },
  {
   "cell_type": "code",
   "execution_count": 25,
   "metadata": {},
   "outputs": [
    {
     "ename": "TypeError",
     "evalue": "get_nc_coords() missing 1 required positional argument: 'titletext'",
     "output_type": "error",
     "traceback": [
      "\u001b[1;31m---------------------------------------------------------------------------\u001b[0m",
      "\u001b[1;31mTypeError\u001b[0m                                 Traceback (most recent call last)",
      "\u001b[1;32m<ipython-input-25-863b2e8cfb31>\u001b[0m in \u001b[0;36m<module>\u001b[1;34m\u001b[0m\n\u001b[0;32m      2\u001b[0m \u001b[1;32mfor\u001b[0m \u001b[0mi\u001b[0m \u001b[1;32min\u001b[0m \u001b[0mrange\u001b[0m\u001b[1;33m(\u001b[0m\u001b[1;36m15\u001b[0m\u001b[1;33m)\u001b[0m\u001b[1;33m:\u001b[0m\u001b[1;33m\u001b[0m\u001b[1;33m\u001b[0m\u001b[0m\n\u001b[0;32m      3\u001b[0m     \u001b[0mtemp\u001b[0m\u001b[1;33m=\u001b[0m\u001b[0mremove_xchunk\u001b[0m\u001b[1;33m(\u001b[0m\u001b[0mt400blank\u001b[0m\u001b[1;33m,\u001b[0m\u001b[1;36m3\u001b[0m\u001b[1;33m*\u001b[0m\u001b[0mi\u001b[0m\u001b[1;33m)\u001b[0m\u001b[1;33m\u001b[0m\u001b[1;33m\u001b[0m\u001b[0m\n\u001b[1;32m----> 4\u001b[1;33m     \u001b[0mx\u001b[0m\u001b[1;33m,\u001b[0m\u001b[0my\u001b[0m\u001b[1;33m,\u001b[0m\u001b[0mcc\u001b[0m\u001b[1;33m=\u001b[0m\u001b[0mget_nc_coords\u001b[0m\u001b[1;33m(\u001b[0m\u001b[0mc2000\u001b[0m\u001b[1;33m[\u001b[0m\u001b[1;33m:\u001b[0m\u001b[1;33m,\u001b[0m\u001b[1;33m:\u001b[0m\u001b[1;33m,\u001b[0m\u001b[1;36m1\u001b[0m\u001b[1;33m]\u001b[0m\u001b[1;33m,\u001b[0m\u001b[0mtemp\u001b[0m\u001b[1;33m)\u001b[0m\u001b[1;33m\u001b[0m\u001b[1;33m\u001b[0m\u001b[0m\n\u001b[0m\u001b[0;32m      5\u001b[0m     \u001b[0mcclist\u001b[0m\u001b[1;33m.\u001b[0m\u001b[0mappend\u001b[0m\u001b[1;33m(\u001b[0m\u001b[0mcc\u001b[0m\u001b[1;33m)\u001b[0m\u001b[1;33m\u001b[0m\u001b[1;33m\u001b[0m\u001b[0m\n",
      "\u001b[1;31mTypeError\u001b[0m: get_nc_coords() missing 1 required positional argument: 'titletext'"
     ]
    }
   ],
   "source": [
    "cclist=[]\n",
    "for i in range(15):\n",
    "    temp=remove_xchunk(t400blank,3*i)\n",
    "    x,y,cc=get_nc_coords(c2000[:,:,1],temp)\n",
    "    cclist.append(cc)"
   ]
  },
  {
   "cell_type": "code",
   "execution_count": 26,
   "metadata": {},
   "outputs": [
    {
     "data": {
      "text/plain": [
       "<matplotlib.image.AxesImage at 0x29ea0f7b848>"
      ]
     },
     "execution_count": 26,
     "metadata": {},
     "output_type": "execute_result"
    }
   ],
   "source": [
    "figure()\n",
    "imshow(c2000[:,:,1])"
   ]
  },
  {
   "cell_type": "code",
   "execution_count": 199,
   "metadata": {},
   "outputs": [
    {
     "data": {
      "text/plain": [
       "[<matplotlib.lines.Line2D at 0x257ee788f08>]"
      ]
     },
     "execution_count": 199,
     "metadata": {},
     "output_type": "execute_result"
    }
   ],
   "source": [
    "figure()\n",
    "title('Best cross correlation C2000 image, cropped C400 template')\n",
    "xlabel('# of pixel columns cropped from template center')\n",
    "ylabel('Max cross correlation value')\n",
    "x=6*arange(15)\n",
    "plot(x,cclist)\n"
   ]
  },
  {
   "cell_type": "code",
   "execution_count": 195,
   "metadata": {},
   "outputs": [],
   "source": [
    "close('all')"
   ]
  },
  {
   "cell_type": "code",
   "execution_count": 133,
   "metadata": {},
   "outputs": [
    {
     "data": {
      "text/plain": [
       "<matplotlib.image.AxesImage at 0x257b8a9a2c8>"
      ]
     },
     "execution_count": 133,
     "metadata": {},
     "output_type": "execute_result"
    }
   ],
   "source": [
    "figure()\n",
    "imshow(c400[:,:,1])\n",
    "figure()\n",
    "imshow(c2000[:,:,1])"
   ]
  },
  {
   "cell_type": "code",
   "execution_count": 138,
   "metadata": {},
   "outputs": [
    {
     "data": {
      "text/plain": [
       "<matplotlib.image.AxesImage at 0x257b2a34748>"
      ]
     },
     "execution_count": 138,
     "metadata": {},
     "output_type": "execute_result"
    }
   ],
   "source": [
    "figure()\n",
    "imshow(t2000blank)"
   ]
  },
  {
   "cell_type": "code",
   "execution_count": 81,
   "metadata": {},
   "outputs": [
    {
     "data": {
      "text/plain": [
       "<matplotlib.image.AxesImage at 0x257b9b369c8>"
      ]
     },
     "execution_count": 81,
     "metadata": {},
     "output_type": "execute_result"
    }
   ],
   "source": [
    "t2000_temp=np.uint8(t2000_1.copy())\n",
    "cc=cv2.matchTemplate(np.uint8(c2000_1),t2000_temp,method)\n",
    "\n",
    "figure()\n",
    "imshow(cc)"
   ]
  },
  {
   "cell_type": "code",
   "execution_count": 127,
   "metadata": {},
   "outputs": [
    {
     "data": {
      "text/plain": [
       "<matplotlib.image.AxesImage at 0x257b964f188>"
      ]
     },
     "execution_count": 127,
     "metadata": {},
     "output_type": "execute_result"
    }
   ],
   "source": [
    "figure()\n",
    "imshow(t400_temp)"
   ]
  },
  {
   "cell_type": "code",
   "execution_count": null,
   "metadata": {},
   "outputs": [],
   "source": []
  },
  {
   "cell_type": "code",
   "execution_count": 27,
   "metadata": {},
   "outputs": [],
   "source": [
    "def make_line_templatei(intemplate):\n",
    "    '''attempt model based template construction, try for 4 whisker lines\n",
    "    remember that x is second axis while y is first axis'''\n",
    "    ysize,xsize=intemplate.shape\n",
    "    ys2=np.int(ysize/2)\n",
    "    lw=3 #line width in y direction\n",
    "    xlows=[75,150,325,400]\n",
    "    xhighs=xlows.copy()\n",
    "    ylows=[]\n",
    "    yhighs=[]\n",
    "    for x in xlows:\n",
    "        ylows.append(np.argmax(abs(1.0*intemplate[:ys2,x] - 1.0*intemplate[4:ys2+4,x])))\n",
    "        yhighs.append(ys2+4+np.argmax(abs(1.0*intemplate[ys2:-4,x] - 1.0*intemplate[ys2+4:,x])))\n",
    "        \n",
    "    outtemplate=intemplate.copy()\n",
    "    outtemplate[:,:]=0\n",
    "    xlow1=(arange(xlows[0],xlows[1])).astype(int)\n",
    "    ylow1=(np.interp(arange(xlows[0],xlows[1]),[xlows[0],xlows[1]],[ylows[0],ylows[1]])).astype(int)\n",
    "    ylow1a=(np.interp(arange(xlows[0],xlows[1]),[xlows[0],xlows[1]],[ylows[0]-1,ylows[1]-1])).astype(int)\n",
    "    ylow1b=(np.interp(arange(xlows[0],xlows[1]),[xlows[0],xlows[1]],[ylows[0]+1,ylows[1]+1])).astype(int)\n",
    "    \n",
    "    xlow2=(arange(xlows[2],xlows[3])).astype(int)\n",
    "    ylow2=(np.interp(arange(xlows[2],xlows[3]),[xlows[2],xlows[3]],[ylows[2],ylows[3]])).astype(int)\n",
    "    ylow2a=(np.interp(arange(xlows[2],xlows[3]),[xlows[2],xlows[3]],[ylows[2]-1,ylows[3]-1])).astype(int)\n",
    "    ylow2b=(np.interp(arange(xlows[2],xlows[3]),[xlows[2],xlows[3]],[ylows[2]+1,ylows[3]+1])).astype(int)\n",
    "    \n",
    "    xhigh1=(arange(xlows[0],xlows[1])).astype(int)\n",
    "    yhigh1=(np.interp(arange(xlows[0],xlows[1]),[xlows[0],xlows[1]],[yhighs[0],yhighs[1]])).astype(int)\n",
    "    yhigh1a=(np.interp(arange(xlows[0],xlows[1]),[xlows[0],xlows[1]],[yhighs[0]-1,yhighs[1]-1])).astype(int)\n",
    "    yhigh1b=(np.interp(arange(xlows[0],xlows[1]),[xlows[0],xlows[1]],[yhighs[0]+1,yhighs[1]+1])).astype(int)\n",
    "    \n",
    "    xhigh2=(arange(xlows[2],xlows[3])).astype(int)\n",
    "    yhigh2=(np.interp(arange(xlows[2],xlows[3]),[xlows[2],xlows[3]],[yhighs[2],yhighs[3]])).astype(int)\n",
    "    yhigh2a=(np.interp(arange(xlows[2],xlows[3]),[xlows[2],xlows[3]],[yhighs[2]-1,yhighs[3]-1])).astype(int)\n",
    "    yhigh2b=(np.interp(arange(xlows[2],xlows[3]),[xlows[2],xlows[3]],[yhighs[2]+1,yhighs[3]+1])).astype(int)   \n",
    "    \n",
    "    for x,y in zip(xlow1,ylow1):\n",
    "        outtemplate[y,x]=1\n",
    "    for x,y in zip(xlow2,ylow2):\n",
    "        outtemplate[y,x]=1\n",
    "    for x,y in zip(xlow1,yhigh1):\n",
    "        outtemplate[y,x]=1\n",
    "    for x,y in zip(xlow2,yhigh2):\n",
    "        outtemplate[y,x]=1\n",
    "        \n",
    "    for x,y in zip(xlow1,ylow1a):\n",
    "        outtemplate[y,x]=1\n",
    "    for x,y in zip(xlow2,ylow2a):\n",
    "        outtemplate[y,x]=1\n",
    "    for x,y in zip(xlow1,yhigh1a):\n",
    "        outtemplate[y,x]=1\n",
    "    for x,y in zip(xlow2,yhigh2a):\n",
    "        outtemplate[y,x]=1\n",
    "\n",
    "    for x,y in zip(xlow1,ylow1b):\n",
    "        outtemplate[y,x]=1\n",
    "    for x,y in zip(xlow2,ylow2b):\n",
    "        outtemplate[y,x]=1\n",
    "    for x,y in zip(xlow1,yhigh1b):\n",
    "        outtemplate[y,x]=1\n",
    "    for x,y in zip(xlow2,yhigh2b):\n",
    "        outtemplate[y,x]=1\n",
    "        \n",
    "    return outtemplate\n",
    "    "
   ]
  },
  {
   "cell_type": "code",
   "execution_count": 28,
   "metadata": {},
   "outputs": [],
   "source": [
    "def make_line_template_original(intemplate):\n",
    "    '''attempt model based template construction, try for 4 whisker lines\n",
    "    remember that x is second axis while y is first axis'''\n",
    "    ysize,xsize=intemplate.shape\n",
    "    jog=2\n",
    "    ys2=np.int(ysize/2)\n",
    "    lw=3 #line width in y direction\n",
    "    xlows=[75,170,325,425]\n",
    "    xhighs=xlows.copy()\n",
    "    ylows=[]\n",
    "    yhighs=[]\n",
    "    for x in xlows:\n",
    "        ylows.append(np.argmax(abs(1.0*intemplate[:ys2,x] - 1.0*intemplate[4:ys2+4,x])))\n",
    "        yhighs.append(ys2+4+np.argmax(abs(1.0*intemplate[ys2:-4,x] - 1.0*intemplate[ys2+4:,x])))\n",
    "        \n",
    "    outtemplate=intemplate.copy()\n",
    "    outtemplate[:,:]=0\n",
    "    xlow1=(arange(xlows[0],xlows[1])).astype(int)\n",
    "    ylow1=(np.interp(arange(xlows[0],xlows[1]),[xlows[0],xlows[1]],[ylows[0],ylows[1]])).astype(int)\n",
    "    \n",
    "    xlow2=(arange(xlows[2],xlows[3])).astype(int)\n",
    "    ylow2=(np.interp(arange(xlows[2],xlows[3]),[xlows[2],xlows[3]],[ylows[2],ylows[3]])).astype(int)\n",
    "    \n",
    "    xhigh1=(arange(xlows[0],xlows[1])).astype(int)\n",
    "    yhigh1=(np.interp(arange(xlows[0],xlows[1]),[xlows[0],xlows[1]],[yhighs[0],yhighs[1]])).astype(int)\n",
    "    \n",
    "    xhigh2=(arange(xlows[2],xlows[3])).astype(int)\n",
    "    yhigh2=(np.interp(arange(xlows[2],xlows[3]),[xlows[2],xlows[3]],[yhighs[2],yhighs[3]])).astype(int)\n",
    "    \n",
    "    \n",
    "    for x,y in zip(xlow1,ylow1):\n",
    "        outtemplate[y,x]=1\n",
    "    for x,y in zip(xlow2,ylow2):\n",
    "        outtemplate[y,x]=1\n",
    "    for x,y in zip(xlow1,yhigh1):\n",
    "        outtemplate[y,x]=1\n",
    "    for x,y in zip(xlow2,yhigh2):\n",
    "        outtemplate[y,x]=1\n",
    "        \n",
    "    for x,y in zip(xlow1,ylow1):\n",
    "        outtemplate[y-1,x]=1\n",
    "        outtemplate[y+1,x]=1\n",
    "    for x,y in zip(xlow2,ylow2):\n",
    "        outtemplate[y-1,x]=1\n",
    "        outtemplate[y+1,x]=1\n",
    "    for x,y in zip(xlow1,yhigh1):\n",
    "        outtemplate[y-1,x]=1\n",
    "        outtemplate[y+1,x]=1\n",
    "    for x,y in zip(xlow2,yhigh2):\n",
    "        outtemplate[y-1,x]=1\n",
    "        outtemplate[y+1,x]=1\n",
    "            \n",
    "    for x,y in zip(xlow1,ylow1):\n",
    "        outtemplate[y-2,x]=1\n",
    "        #outtemplate[y+2,x]=1\n",
    "    for x,y in zip(xlow2,ylow2):\n",
    "        outtemplate[y-2,x]=1\n",
    "        #outtemplate[y+2,x]=1\n",
    "    for x,y in zip(xlow1,yhigh1):\n",
    "        #outtemplate[y-2,x]=1\n",
    "        outtemplate[y+2,x]=1\n",
    "    for x,y in zip(xlow2,yhigh2):\n",
    "        #outtemplate[y-2,x]=1\n",
    "        outtemplate[y+2,x]=1\n",
    "        \n",
    "    print(get_cc(intemplate,outtemplate))\n",
    "        \n",
    "    return outtemplate\n",
    "    "
   ]
  },
  {
   "cell_type": "code",
   "execution_count": 29,
   "metadata": {},
   "outputs": [],
   "source": [
    "def make_line_template(intemplate):\n",
    "    '''model based template construction, try for 4 whisker lines\n",
    "    remember that x is second axis while y is first axis'''\n",
    "    ysize,xsize=intemplate.shape\n",
    "    jog=1\n",
    "    ys2=np.int(ysize/2)\n",
    "    lw=3 #line width in y direction\n",
    "    xlows=[75,170,325,425]\n",
    "    xhighs=xlows.copy()\n",
    "    ylows=[]\n",
    "    yhighs=[]\n",
    "    for x in xlows:\n",
    "        ylows.append(np.argmax(abs(1.0*intemplate[:ys2,x] - 1.0*intemplate[4:ys2+4,x])))\n",
    "        yhighs.append(ys2+8+np.argmax(abs(1.0*intemplate[ys2:-4,x] - 1.0*intemplate[ys2+4:,x])))\n",
    "       \n",
    "    outtemplate=fill_template(intemplate,xlows,ylows,yhighs)\n",
    "    print('yhighs',yhighs)\n",
    "    print('ylows',ylows)\n",
    "    print(get_cc(intemplate,outtemplate))\n",
    "    return outtemplate\n",
    "    "
   ]
  },
  {
   "cell_type": "code",
   "execution_count": 30,
   "metadata": {},
   "outputs": [],
   "source": [
    "def fill_template(intemplate,xlows,ylows,yhighs, offsets=[0,0,0,0,0,0,0,0]):\n",
    "    lo=offsets[:4]\n",
    "    ho=offsets[4:]\n",
    "    outtemplate=intemplate.copy()\n",
    "    outtemplate[:,:]=0\n",
    "    xlow1=(arange(xlows[0],xlows[1])).astype(int)\n",
    "    ylow1=(np.interp(arange(xlows[0],xlows[1]),[xlows[0],xlows[1]],[ylows[0]+lo[0],ylows[1]+lo[1]])).astype(int)\n",
    "    \n",
    "    xlow2=(arange(xlows[2],xlows[3])).astype(int)\n",
    "    ylow2=(np.interp(arange(xlows[2],xlows[3]),[xlows[2],xlows[3]],[ylows[2]+lo[2],ylows[3]+lo[3]])).astype(int)\n",
    "    \n",
    "    xhigh1=(arange(xlows[0],xlows[1])).astype(int)\n",
    "    yhigh1=(np.interp(arange(xlows[0],xlows[1]),[xlows[0],xlows[1]],[yhighs[0]+ho[0],yhighs[1]+ho[1]])).astype(int)\n",
    "    \n",
    "    xhigh2=(arange(xlows[2],xlows[3])).astype(int)\n",
    "    yhigh2=(np.interp(arange(xlows[2],xlows[3]),[xlows[2],xlows[3]],[yhighs[2]+ho[2],yhighs[3]+ho[3]])).astype(int)\n",
    "    \n",
    "    for x,y in zip(xlow1,ylow1):\n",
    "        outtemplate[y,x]=1\n",
    "    for x,y in zip(xlow2,ylow2):\n",
    "        outtemplate[y,x]=1\n",
    "    for x,y in zip(xlow1,yhigh1):\n",
    "        outtemplate[y,x]=1\n",
    "    for x,y in zip(xlow2,yhigh2):\n",
    "        outtemplate[y,x]=1\n",
    "#thicken by adding another 2 lines of pixels above and below        \n",
    "    for x,y in zip(xlow1,ylow1):\n",
    "        outtemplate[y-2,x]=1\n",
    "        outtemplate[y-1,x]=1\n",
    "        outtemplate[y+1,x]=1\n",
    "        outtemplate[y+2,x]=1\n",
    "        outtemplate[y-3,x]=1\n",
    "        outtemplate[y+3,x]=1\n",
    "    for x,y in zip(xlow2,ylow2):\n",
    "        outtemplate[y-2,x]=1\n",
    "        outtemplate[y-1,x]=1\n",
    "        outtemplate[y+1,x]=1\n",
    "        outtemplate[y+2,x]=1\n",
    "        outtemplate[y-3,x]=1\n",
    "        outtemplate[y+3,x]=1\n",
    "    for x,y in zip(xlow1,yhigh1):\n",
    "        outtemplate[y-2,x]=1\n",
    "        outtemplate[y-1,x]=1\n",
    "        outtemplate[y+1,x]=1\n",
    "        outtemplate[y+2,x]=1\n",
    "        outtemplate[y-3,x]=1\n",
    "        outtemplate[y+3,x]=1\n",
    "    for x,y in zip(xlow2,yhigh2):\n",
    "        outtemplate[y-2,x]=1\n",
    "        outtemplate[y-1,x]=1\n",
    "        outtemplate[y+1,x]=1\n",
    "        outtemplate[y+2,x]=1\n",
    "        outtemplate[y-3,x]=1\n",
    "        outtemplate[y+3,x]=1\n",
    "            \n",
    "    return outtemplate"
   ]
  },
  {
   "cell_type": "code",
   "execution_count": 31,
   "metadata": {},
   "outputs": [],
   "source": [
    "def make_line_template_tune(intemplate):\n",
    "    '''attempt model based template construction, try for 4 whisker lines\n",
    "    remember that x is second axis while y is first axis'''\n",
    "    ysize,xsize=intemplate.shape\n",
    "    jog=1\n",
    "    ys2=np.int(ysize/2)\n",
    "    lw=3 #line width in y direction\n",
    "    xlows=[75,170,325,425]\n",
    "    xhighs=xlows.copy()\n",
    "    ylows=[]\n",
    "    yhighs=[]\n",
    "    for x in xlows:\n",
    "        ylows.append(np.argmax(abs(1.0*intemplate[:ys2,x] - 1.0*intemplate[4:ys2+4,x])))\n",
    "        yhighs.append(ys2+8+np.argmax(abs(1.0*intemplate[ys2:-4,x] - 1.0*intemplate[ys2+4:,x])))\n",
    "       \n",
    "    \n",
    "    ilist=[]; jlist=[]; klist=[]; llist=[]; mlist=[]; nlist=[]; olist=[]; plist=[];\n",
    "    i=0; j=0; k=0; l=0; m=0; n=0; o=0; p=0\n",
    "    #line 1\n",
    "    cclist=[]\n",
    "    for i in arange(5)-3:\n",
    "        for j in arange(5)-3:\n",
    "            ilist.append(i); jlist.append(j)\n",
    "            offsets=[n for n in [i,j,k,l,m,n,o,p]]\n",
    "            outtemplate=fill_template(intemplate,xlows,ylows,yhighs,offsets)\n",
    "            xx,yy,cc=get_cc(intemplate,outtemplate)\n",
    "            cclist.append(cc)\n",
    "    indmax=np.argmax(cclist)\n",
    "    ibest=ilist[indmax]\n",
    "    jbest=jlist[indmax]\n",
    "\n",
    "    #line 2\n",
    "    cclist=[]\n",
    "    for k in arange(5)-3:\n",
    "        for l in arange(5)-3:\n",
    "            klist.append(k); llist.append(l)\n",
    "            offsets=[n for n in [ibest,jbest,k,l,m,n,o,p]]\n",
    "            outtemplate=fill_template(intemplate,xlows,ylows,yhighs,offsets)\n",
    "            xx,yy,cc=get_cc(intemplate,outtemplate)\n",
    "            cclist.append(cc)\n",
    "    indmax=np.argmax(cclist)\n",
    "    kbest=klist[indmax]\n",
    "    lbest=llist[indmax]\n",
    "    \n",
    "    #line 3\n",
    "    cclist=[]\n",
    "    for m in arange(5)-3:\n",
    "        for n in arange(5)-3:\n",
    "            mlist.append(m); nlist.append(n)\n",
    "            offsets=[n for n in [ibest,jbest,kbest,lbest,m,n,o,p]]\n",
    "            outtemplate=fill_template(intemplate,xlows,ylows,yhighs,offsets)\n",
    "            xx,yy,cc=get_cc(intemplate,outtemplate)\n",
    "            cclist.append(cc)\n",
    "    indmax=np.argmax(cclist)\n",
    "    mbest=mlist[indmax]\n",
    "    nbest=nlist[indmax]\n",
    "\n",
    "    #line 4\n",
    "    cclist=[]\n",
    "    for o in arange(5)-3:\n",
    "        for p in arange(5)-3:\n",
    "            olist.append(o); plist.append(p)\n",
    "            offsets=[n for n in [ibest,jbest,kbest,lbest,mbest,nbest,o,p]]\n",
    "            outtemplate=fill_template(intemplate,xlows,ylows,yhighs,offsets)\n",
    "            xx,yy,cc=get_cc(intemplate,outtemplate)\n",
    "            cclist.append(cc)\n",
    "    indmax=np.argmax(cclist)\n",
    "    obest=olist[indmax]\n",
    "    pbest=plist[indmax]\n",
    "    offsets=[n for n in [ibest,jbest,kbest,lbest,mbest,nbest,obest,pbest]]\n",
    "    outtemplate=fill_template(intemplate,xlows,ylows,yhighs,offsets)\n",
    "    print('offsets = ',offsets)\n",
    "    print(get_cc(intemplate,outtemplate))\n",
    "    \n",
    "    return outtemplate\n",
    "    "
   ]
  },
  {
   "cell_type": "code",
   "execution_count": 34,
   "metadata": {},
   "outputs": [
    {
     "name": "stdout",
     "output_type": "stream",
     "text": [
      "offsets =  [-1, -1, -1, -1, -2, -2, -3, -2]\n",
      "(240, 50, 0.5622978210449219)\n"
     ]
    }
   ],
   "source": [
    "outtemp6=make_line_template_tune(tmp400)"
   ]
  },
  {
   "cell_type": "code",
   "execution_count": 473,
   "metadata": {},
   "outputs": [
    {
     "name": "stdout",
     "output_type": "stream",
     "text": [
      "0.5243163108825684\n",
      "0.000791213707998395\n"
     ]
    }
   ],
   "source": [
    "print(np.max(cclist))\n",
    "imax=np.argmax(cclist)\n",
    "print(np.min(cclist))\n",
    "imin=np.argmin(cclist)"
   ]
  },
  {
   "cell_type": "code",
   "execution_count": 475,
   "metadata": {},
   "outputs": [
    {
     "data": {
      "text/plain": [
       "[0, 0, 0, 0, 0, -4, -4, 0]"
      ]
     },
     "execution_count": 475,
     "metadata": {},
     "output_type": "execute_result"
    }
   ],
   "source": [
    "offsetlist[imax]\n"
   ]
  },
  {
   "cell_type": "code",
   "execution_count": 457,
   "metadata": {},
   "outputs": [
    {
     "data": {
      "text/plain": [
       "(6561,)"
      ]
     },
     "execution_count": 457,
     "metadata": {},
     "output_type": "execute_result"
    }
   ],
   "source": [
    "shape(cclist)"
   ]
  },
  {
   "cell_type": "code",
   "execution_count": 35,
   "metadata": {},
   "outputs": [
    {
     "name": "stdout",
     "output_type": "stream",
     "text": [
      "yhighs [76, 63, 70, 89]\n",
      "ylows [12, 35, 35, 16]\n",
      "(240, 50, 0.4750243127346039)\n"
     ]
    }
   ],
   "source": [
    "linetmp400b=make_line_template(tmp400)"
   ]
  },
  {
   "cell_type": "code",
   "execution_count": 40,
   "metadata": {},
   "outputs": [
    {
     "name": "stdout",
     "output_type": "stream",
     "text": [
      "yhighs [76, 63, 70, 89]\n",
      "ylows [12, 35, 35, 16]\n",
      "(240, 50, 0.4750243127346039)\n"
     ]
    }
   ],
   "source": [
    "linetmp400=make_line_template(tmp400)"
   ]
  },
  {
   "cell_type": "code",
   "execution_count": 39,
   "metadata": {},
   "outputs": [],
   "source": [
    "linetmp400i=make_line_templatei(tmp400)"
   ]
  },
  {
   "cell_type": "code",
   "execution_count": 361,
   "metadata": {},
   "outputs": [
    {
     "data": {
      "text/plain": [
       "11"
      ]
     },
     "execution_count": 361,
     "metadata": {},
     "output_type": "execute_result"
    }
   ],
   "source": [
    "ax[0]"
   ]
  },
  {
   "cell_type": "code",
   "execution_count": 37,
   "metadata": {},
   "outputs": [
    {
     "ename": "NameError",
     "evalue": "name 'linetmp400' is not defined",
     "output_type": "error",
     "traceback": [
      "\u001b[1;31m---------------------------------------------------------------------------\u001b[0m",
      "\u001b[1;31mNameError\u001b[0m                                 Traceback (most recent call last)",
      "\u001b[1;32m<ipython-input-37-4f70b2d4166b>\u001b[0m in \u001b[0;36m<module>\u001b[1;34m\u001b[0m\n\u001b[1;32m----> 1\u001b[1;33m \u001b[0may\u001b[0m\u001b[1;33m,\u001b[0m\u001b[0max\u001b[0m\u001b[1;33m=\u001b[0m\u001b[0mwhere\u001b[0m\u001b[1;33m(\u001b[0m\u001b[0mlinetmp400\u001b[0m\u001b[1;33m==\u001b[0m\u001b[1;36m1\u001b[0m\u001b[1;33m)\u001b[0m\u001b[1;33m\u001b[0m\u001b[1;33m\u001b[0m\u001b[0m\n\u001b[0m",
      "\u001b[1;31mNameError\u001b[0m: name 'linetmp400' is not defined"
     ]
    }
   ],
   "source": [
    "ay,ax=where(linetmp400==1)"
   ]
  },
  {
   "cell_type": "code",
   "execution_count": 367,
   "metadata": {},
   "outputs": [
    {
     "data": {
      "text/plain": [
       "<matplotlib.image.AxesImage at 0x257c0139708>"
      ]
     },
     "execution_count": 367,
     "metadata": {},
     "output_type": "execute_result"
    }
   ],
   "source": [
    "figure()\n",
    "imshow(linetmp400)"
   ]
  },
  {
   "cell_type": "code",
   "execution_count": 296,
   "metadata": {},
   "outputs": [],
   "source": [
    "close('all')"
   ]
  },
  {
   "cell_type": "code",
   "execution_count": 42,
   "metadata": {},
   "outputs": [
    {
     "name": "stdout",
     "output_type": "stream",
     "text": [
      "(705, 485, 0.3922620713710785)\n"
     ]
    },
    {
     "data": {
      "text/plain": [
       "(array([[ 0.01705409,  0.01550127,  0.0129027 , ..., -0.00174351,\n",
       "          0.00035246,  0.00355184],\n",
       "        [ 0.01676688,  0.01580356,  0.01361328, ..., -0.00196746,\n",
       "          0.00062709,  0.00414922],\n",
       "        [ 0.01673139,  0.0157635 ,  0.01387372, ..., -0.00200903,\n",
       "          0.00090724,  0.00460692],\n",
       "        ...,\n",
       "        [-0.01867857, -0.0151755 , -0.01177265, ...,  0.01425054,\n",
       "          0.01424238,  0.01435431],\n",
       "        [-0.01923337, -0.01706425, -0.01398818, ...,  0.01228735,\n",
       "          0.01265365,  0.01320272],\n",
       "        [-0.01931428, -0.01736264, -0.01439548, ...,  0.0100082 ,\n",
       "          0.01037881,  0.01108919]], dtype=float32),\n",
       " (705, 485, 0.3922620713710785))"
      ]
     },
     "execution_count": 42,
     "metadata": {},
     "output_type": "execute_result"
    }
   ],
   "source": [
    "get_nc_coords(c400[:,:,1],linetmp400i,'linetemp400i')"
   ]
  },
  {
   "cell_type": "code",
   "execution_count": 43,
   "metadata": {},
   "outputs": [
    {
     "name": "stdout",
     "output_type": "stream",
     "text": [
      "(704, 482, 0.5348321199417114)\n"
     ]
    },
    {
     "data": {
      "text/plain": [
       "(array([[-0.01052925, -0.00899566, -0.0074416 , ...,  0.00774584,\n",
       "          0.01103778,  0.01548913],\n",
       "        [-0.01338569, -0.01228713, -0.01094524, ...,  0.0071494 ,\n",
       "          0.01076345,  0.01560222],\n",
       "        [-0.01648308, -0.01588407, -0.01491169, ...,  0.00666118,\n",
       "          0.0108855 ,  0.01625243],\n",
       "        ...,\n",
       "        [ 0.00960986,  0.0099442 ,  0.01229947, ...,  0.02058761,\n",
       "          0.02110181,  0.02149974],\n",
       "        [ 0.00851077,  0.00958203,  0.01353565, ...,  0.02024523,\n",
       "          0.0209155 ,  0.02186426],\n",
       "        [ 0.00536805,  0.00679908,  0.01034573, ...,  0.02040643,\n",
       "          0.02119958,  0.02212022]], dtype=float32),\n",
       " (704, 482, 0.5348321199417114))"
      ]
     },
     "execution_count": 43,
     "metadata": {},
     "output_type": "execute_result"
    }
   ],
   "source": [
    "get_nc_coords(c400[:,:,1],linetmp400,'linetemp400')"
   ]
  },
  {
   "cell_type": "code",
   "execution_count": 46,
   "metadata": {},
   "outputs": [
    {
     "data": {
      "text/plain": [
       "<matplotlib.image.AxesImage at 0x29ea1959388>"
      ]
     },
     "execution_count": 46,
     "metadata": {},
     "output_type": "execute_result"
    }
   ],
   "source": [
    "imshow(linetmp400)"
   ]
  },
  {
   "cell_type": "code",
   "execution_count": 45,
   "metadata": {},
   "outputs": [
    {
     "data": {
      "text/plain": [
       "<matplotlib.image.AxesImage at 0x29ea6697188>"
      ]
     },
     "execution_count": 45,
     "metadata": {},
     "output_type": "execute_result"
    }
   ],
   "source": [
    "figure()\n",
    "imshow(t400)"
   ]
  },
  {
   "cell_type": "code",
   "execution_count": 317,
   "metadata": {},
   "outputs": [
    {
     "data": {
      "text/plain": [
       "(1080, 1440)"
      ]
     },
     "execution_count": 317,
     "metadata": {},
     "output_type": "execute_result"
    }
   ],
   "source": [
    "c400[:,:,1].shape"
   ]
  },
  {
   "cell_type": "code",
   "execution_count": 33,
   "metadata": {},
   "outputs": [],
   "source": [
    "def get_cc(img,template):\n",
    "    method = eval('cv2.TM_CCOEFF_NORMED')\n",
    "    imgn = img.copy()\n",
    "    imgn = imgn - np.min(imgn)\n",
    "    imgn = imgn * (old_div(256., np.max(imgn)))\n",
    "    img = np.uint8(imgn)\n",
    "    w, h = template.shape[::-1]\n",
    "    res = cv2.matchTemplate(img, np.uint8(template), method)\n",
    "    min_val, max_val, min_loc, max_loc = cv2.minMaxLoc(np.abs(res))\n",
    "    nc_xy_ccval = (max_loc[0] + old_div(w, 2), max_loc[1] + old_div(h, 2), max_val)\n",
    "    return nc_xy_ccval"
   ]
  },
  {
   "cell_type": "code",
   "execution_count": 337,
   "metadata": {},
   "outputs": [
    {
     "name": "stdout",
     "output_type": "stream",
     "text": [
      "(240, 50, 0.4411216676235199)\n"
     ]
    }
   ],
   "source": [
    "print(get_cc(tmp400,linetmp400))"
   ]
  },
  {
   "cell_type": "code",
   "execution_count": 405,
   "metadata": {},
   "outputs": [
    {
     "data": {
      "text/plain": [
       "<matplotlib.image.AxesImage at 0x25783858d88>"
      ]
     },
     "execution_count": 405,
     "metadata": {},
     "output_type": "execute_result"
    }
   ],
   "source": [
    "figure()\n",
    "imshow(t400blank)"
   ]
  },
  {
   "cell_type": "code",
   "execution_count": 334,
   "metadata": {},
   "outputs": [
    {
     "data": {
      "text/plain": [
       "(100, 480)"
      ]
     },
     "execution_count": 334,
     "metadata": {},
     "output_type": "execute_result"
    }
   ],
   "source": [
    "tmp400.shape"
   ]
  },
  {
   "cell_type": "code",
   "execution_count": 52,
   "metadata": {},
   "outputs": [
    {
     "name": "stdout",
     "output_type": "stream",
     "text": [
      "(704, 483, 0.8123605847358704)\n"
     ]
    }
   ],
   "source": [
    "res_l400_c400,xycc=get_nc_coords(c400[:,:,1],outtemp_minus,'C400 with c400 inverted tuned line template')"
   ]
  },
  {
   "cell_type": "code",
   "execution_count": 52,
   "metadata": {},
   "outputs": [
    {
     "name": "stdout",
     "output_type": "stream",
     "text": [
      "(704, 483, 0.8123605847358704)\n"
     ]
    }
   ],
   "source": [
    "res_t400,xycc=get_nc_coords(c400[:,:,1],t400,'C400 with c400 nominal template')"
   ]
  },
  {
   "cell_type": "code",
   "execution_count": 55,
   "metadata": {},
   "outputs": [
    {
     "data": {
      "text/plain": [
       "<matplotlib.legend.Legend at 0x29ea1dee948>"
      ]
     },
     "execution_count": 55,
     "metadata": {},
     "output_type": "execute_result"
    }
   ],
   "source": [
    "figure()\n",
    "plot(res_l400_c400.flatten()/np.max(res_l400_c400),label='C400 CC from line template')\n",
    "plot(res_t400.flatten()/np.max(res_t400),label='C400 CCC from normal template')\n",
    "xlabel('Pixel')\n",
    "ylabel('Cross correlation value (normalized)')\n",
    "legend()"
   ]
  },
  {
   "cell_type": "code",
   "execution_count": 409,
   "metadata": {},
   "outputs": [
    {
     "data": {
      "text/plain": [
       "<matplotlib.image.AxesImage at 0x257ec64d188>"
      ]
     },
     "execution_count": 409,
     "metadata": {},
     "output_type": "execute_result"
    }
   ],
   "source": [
    "figure()\n",
    "imshow (res_l400_c2000)"
   ]
  },
  {
   "cell_type": "code",
   "execution_count": 411,
   "metadata": {},
   "outputs": [
    {
     "data": {
      "text/plain": [
       "<matplotlib.image.AxesImage at 0x257c7428b88>"
      ]
     },
     "execution_count": 411,
     "metadata": {},
     "output_type": "execute_result"
    }
   ],
   "source": [
    "figure()\n",
    "imshow(t2000+linetmp400)"
   ]
  },
  {
   "cell_type": "code",
   "execution_count": 422,
   "metadata": {},
   "outputs": [
    {
     "data": {
      "text/plain": [
       "<matplotlib.image.AxesImage at 0x257eb599b88>"
      ]
     },
     "execution_count": 422,
     "metadata": {},
     "output_type": "execute_result"
    }
   ],
   "source": [
    "figure()\n",
    "imshow(t400+linetmp400b)"
   ]
  },
  {
   "cell_type": "code",
   "execution_count": 48,
   "metadata": {},
   "outputs": [
    {
     "data": {
      "text/plain": [
       "<matplotlib.image.AxesImage at 0x29ea198d348>"
      ]
     },
     "execution_count": 48,
     "metadata": {},
     "output_type": "execute_result"
    }
   ],
   "source": [
    "figure()\n",
    "title('c400 template area with tuned line template overlay')\n",
    "imshow(tmp400+outtemp6*1000)"
   ]
  },
  {
   "cell_type": "code",
   "execution_count": 49,
   "metadata": {},
   "outputs": [],
   "source": [
    "outtemp_minus=(outtemp6-1.0).astype(int)"
   ]
  },
  {
   "cell_type": "code",
   "execution_count": 50,
   "metadata": {},
   "outputs": [
    {
     "data": {
      "text/plain": [
       "<matplotlib.image.AxesImage at 0x29ea1afad48>"
      ]
     },
     "execution_count": 50,
     "metadata": {},
     "output_type": "execute_result"
    }
   ],
   "source": [
    "figure()\n",
    "imshow(outtemp_minus)"
   ]
  },
  {
   "cell_type": "code",
   "execution_count": null,
   "metadata": {},
   "outputs": [],
   "source": []
  }
 ],
 "metadata": {
  "kernelspec": {
   "display_name": "Python 3",
   "language": "python",
   "name": "python3"
  },
  "language_info": {
   "codemirror_mode": {
    "name": "ipython",
    "version": 3
   },
   "file_extension": ".py",
   "mimetype": "text/x-python",
   "name": "python",
   "nbconvert_exporter": "python",
   "pygments_lexer": "ipython3",
   "version": "3.7.4"
  }
 },
 "nbformat": 4,
 "nbformat_minor": 2
}
