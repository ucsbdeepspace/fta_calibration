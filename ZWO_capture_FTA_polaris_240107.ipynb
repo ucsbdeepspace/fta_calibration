{
 "cells": [
  {
   "cell_type": "code",
   "execution_count": 1,
   "id": "ce84e8ec",
   "metadata": {},
   "outputs": [],
   "source": [
    "import h5py\n",
    "import cv2\n",
    "import argparse\n",
    "import os\n",
    "import sys\n",
    "import time\n",
    "import zwoasi as asi\n",
    "from time import time\n",
    "\n",
    "from scipy import optimize\n",
    "import laserbeamsize as lbs\n",
    "import matplotlib.animation as animation"
   ]
  },
  {
   "cell_type": "code",
   "execution_count": 2,
   "id": "f19d8a21",
   "metadata": {},
   "outputs": [],
   "source": [
    "import matplotlib.pyplot as plt\n",
    "import matplotlib.cm as cm\n",
    "import matplotlib.animation as animation"
   ]
  },
  {
   "cell_type": "code",
   "execution_count": 3,
   "id": "ab8ebcb5",
   "metadata": {},
   "outputs": [],
   "source": [
    "def save_dict_to_h5(ddict,filename='star_images.h5', initialdir=\"C:\\\\Starshot\\\\Polaris\"):\n",
    "    #use group with attributes to mock up dictionary, save to h5 file 'h5f'\n",
    "    h5file=initialdir+'\\\\'+filename\n",
    "    keys=ddict.keys()\n",
    "    with h5py.File(h5file,'w') as h5f:\n",
    "        for key in keys:\n",
    "            h5f.create_dataset(key,data=np.array(ddict[key]))\n",
    "        h5f.close()"
   ]
  },
  {
   "cell_type": "code",
   "execution_count": 4,
   "id": "1f4e2174",
   "metadata": {},
   "outputs": [],
   "source": [
    "def load_dict_from_h5(filename='star_images.h5', initialdir=\"C:\\\\Starshot\\\\Polaris\"):\n",
    "    #if there is a group called 'dictionsary', read its attributes as key/value, otherwise\n",
    "    #read directly from an h5 file with no groups, datasets convert to key/value dictionary\n",
    "    h5file=initialdir+'\\\\'+filename\n",
    "    with h5py.File (h5file,'r') as h5f:\n",
    "        h5keys=list(h5f.keys())\n",
    "        if 'dictionary' in h5keys:\n",
    "            grp=h5f.get('dictionary')\n",
    "            out_dict = {}\n",
    "            for key in grp.attrs.keys():\n",
    "                out_dict[key]= grp.attrs[key]\n",
    "        else:\n",
    "            out_dict={}\n",
    "            for key in h5keys:\n",
    "                out_dict[key]=h5f[key][:]\n",
    "        h5f.close()\n",
    "    return out_dict"
   ]
  },
  {
   "cell_type": "code",
   "execution_count": 3,
   "id": "1d3bb351",
   "metadata": {},
   "outputs": [
    {
     "ename": "NameError",
     "evalue": "name 'image' is not defined",
     "output_type": "error",
     "traceback": [
      "\u001b[1;31m---------------------------------------------------------------------------\u001b[0m",
      "\u001b[1;31mNameError\u001b[0m                                 Traceback (most recent call last)",
      "\u001b[1;32m<ipython-input-3-28935580a9bb>\u001b[0m in \u001b[0;36m<module>\u001b[1;34m\u001b[0m\n\u001b[1;32m----> 1\u001b[1;33m \u001b[0mimage\u001b[0m\u001b[1;33m\u001b[0m\u001b[1;33m\u001b[0m\u001b[0m\n\u001b[0m",
      "\u001b[1;31mNameError\u001b[0m: name 'image' is not defined"
     ]
    }
   ],
   "source": [
    "image"
   ]
  },
  {
   "cell_type": "code",
   "execution_count": 5,
   "id": "be06cac3",
   "metadata": {},
   "outputs": [],
   "source": [
    "def star_centroid(image):\n",
    "    #quick and dirty centroid, only viable for 1 star in field\n",
    "    gray_image=image.copy()\n",
    "    ret,thresh = cv2.threshold(gray_image,247,255,cv2.THRESH_BINARY+cv2.THRESH_OTSU)\n",
    "    # calculate moments of binary image\n",
    "    M = cv2.moments(thresh)\n",
    "    # calculate x,y coordinate of center\n",
    "    cX = (M[\"m10\"] / M[\"m00\"])\n",
    "    cY = (M[\"m01\"] / M[\"m00\"])\n",
    "    return cX,cY"
   ]
  },
  {
   "cell_type": "code",
   "execution_count": 6,
   "id": "f6d35545",
   "metadata": {},
   "outputs": [],
   "source": [
    "#test=load_dict_from_h5(filename='polaris_1.h5')"
   ]
  },
  {
   "cell_type": "code",
   "execution_count": 7,
   "id": "bb716628",
   "metadata": {},
   "outputs": [],
   "source": [
    "env_filename=os.getenv('ZWO_ASI_LIB')\n",
    "asi.init('C:\\\\Users\\\\peter\\\\Downloads\\\\ASI_Windows_SDK_V1.24\\\\ASI SDK\\\\lib\\\\x64\\\\ASICamera2.dll')"
   ]
  },
  {
   "cell_type": "code",
   "execution_count": 52,
   "id": "5cd1ad27",
   "metadata": {},
   "outputs": [
    {
     "name": "stdout",
     "output_type": "stream",
     "text": [
      "1  Cameras\n"
     ]
    }
   ],
   "source": [
    "num_cameras = asi.get_num_cameras()\n",
    "print(num_cameras,' Cameras')\n",
    "camera=asi.Camera(0)\n",
    "camera.set_control_value(asi.ASI_HIGH_SPEED_MODE, 1)\n",
    "camera.set_roi()\n",
    "if num_cameras==2:\n",
    "    camera2=asi.Camera(1)\n",
    "    camera2.set_control_value(asi.ASI_HIGH_SPEED_MODE, 1)\n",
    "    camera2.set_roi() "
   ]
  },
  {
   "cell_type": "code",
   "execution_count": 9,
   "id": "1126bef1",
   "metadata": {},
   "outputs": [],
   "source": [
    "asi.Camera.get_id??"
   ]
  },
  {
   "cell_type": "code",
   "execution_count": 46,
   "id": "387c4b21",
   "metadata": {},
   "outputs": [],
   "source": [
    "camera.close()\n",
    "#camera2.close()"
   ]
  },
  {
   "cell_type": "code",
   "execution_count": 11,
   "id": "cfef166c",
   "metadata": {},
   "outputs": [
    {
     "name": "stdout",
     "output_type": "stream",
     "text": [
      "Using matplotlib backend: Qt5Agg\n",
      "Populating the interactive namespace from numpy and matplotlib\n"
     ]
    },
    {
     "name": "stderr",
     "output_type": "stream",
     "text": [
      "C:\\ProgramData\\Anaconda3\\lib\\site-packages\\IPython\\core\\magics\\pylab.py:160: UserWarning: pylab import has clobbered these variables: ['time']\n",
      "`%matplotlib` prevents importing * from pylab and numpy\n",
      "  \"\\n`%matplotlib` prevents importing * from pylab and numpy\"\n"
     ]
    }
   ],
   "source": [
    "%pylab auto\n",
    "from time import time"
   ]
  },
  {
   "cell_type": "code",
   "execution_count": 20,
   "id": "15afa06d",
   "metadata": {},
   "outputs": [
    {
     "name": "stdout",
     "output_type": "stream",
     "text": [
      "0.7989492266666666\n",
      "remote_microns_per_local_pixel 0.7733333333333333\n"
     ]
    }
   ],
   "source": [
    "pix_size=2.9  #microns/pixel\n",
    "pix_scale = 206.6248*pix_size/750    #in arcsec/pixel\n",
    "print(pix_scale)\n",
    "micron_scale_remote = 206.6248/200  # in arcsec/micron_remote\n",
    "remote_microns_per_local_pixel = pix_scale/micron_scale_remote\n",
    "print('remote_microns_per_local_pixel',remote_microns_per_local_pixel)"
   ]
  },
  {
   "cell_type": "code",
   "execution_count": 21,
   "id": "8ca30011",
   "metadata": {},
   "outputs": [
    {
     "name": "stdout",
     "output_type": "stream",
     "text": [
      "0.7989492266666666\n"
     ]
    }
   ],
   "source": [
    "print(pix_scale)"
   ]
  },
  {
   "cell_type": "code",
   "execution_count": 22,
   "id": "30b18303",
   "metadata": {},
   "outputs": [],
   "source": [
    "def smooth(y, box_pts):\n",
    "    box = np.ones(box_pts)/box_pts\n",
    "    y_smooth = np.convolve(y, box, mode='same')\n",
    "    return y_smooth"
   ]
  },
  {
   "cell_type": "code",
   "execution_count": 69,
   "id": "e63eb98d",
   "metadata": {},
   "outputs": [],
   "source": [
    "def find_beacon_and_set_roi_max(camera=camera,n8s=8,exposure=10000,maxpix=None):\n",
    "    camera.set_roi()\n",
    "    camera.set_control_value(asi.ASI_EXPOSURE, exposure)\n",
    "    test=camera.capture()\n",
    "    figure()\n",
    "    imshow(test)\n",
    "    if maxpix==None:\n",
    "        maxpix = np.unravel_index(np.argmax(test, axis=None), test.shape)\n",
    "    start_x = int(maxpix[1]) - n8s*2\n",
    "    start_y = int(maxpix[0]) - n8s*2\n",
    "    print(maxpix)\n",
    "    camera.set_roi(start_x=start_x,start_y=start_y,width=2*n8s*2,height=2*n8s*2)\n",
    "    #test =  camera.capture()\n",
    "    #figure(1)\n",
    "    #imshow(test)\n",
    "    return(start_x,start_y)"
   ]
  },
  {
   "cell_type": "code",
   "execution_count": 24,
   "id": "c58ecc43",
   "metadata": {},
   "outputs": [],
   "source": [
    "from scipy.signal import butter, filtfilt\n",
    "import numpy as np\n",
    "\n",
    "def butter_highpass(cutoff, fs, order=5):\n",
    "    nyq = 0.5 * fs\n",
    "    normal_cutoff = cutoff / nyq\n",
    "    b, a = butter(order, normal_cutoff, btype='high', analog=False)\n",
    "    return b, a\n",
    "\n",
    "def butter_highpass_filter(data, cutoff, fs, order=5):\n",
    "    b, a = butter_highpass(cutoff, fs, order=order)\n",
    "    y = filtfilt(b, a, data)\n",
    "    return y"
   ]
  },
  {
   "cell_type": "code",
   "execution_count": 56,
   "id": "fe85922a",
   "metadata": {},
   "outputs": [],
   "source": [
    "def vidcapture(camera=camera,nframes=100,exposure=3000,gain=500,n8s=8,maxpix=[500,500]):\n",
    "    camera.set_control_value(asi.ASI_EXPOSURE, exposure)\n",
    "    camera.set_control_value(asi.ASI_GAIN, gain)\n",
    "    offsetxy = find_beacon_and_set_roi_max(camera=camera,exposure=10000,maxpix=maxpix,n8s=n8s)\n",
    "    camera.set_control_value(asi.ASI_EXPOSURE, exposure)\n",
    "    figure()\n",
    "    imshow(camera.capture())\n",
    "    print(offsetxy)\n",
    "    ims=[]\n",
    "    camera.start_video_capture()\n",
    "    t0=time()\n",
    "    x=[]\n",
    "    y=[]\n",
    "    for i in range(nframes):\n",
    "        test=camera.capture_video_frame()\n",
    "        xypos = star_centroid(test)\n",
    "        x.append(xypos[0])\n",
    "        y.append(xypos[1])\n",
    "        ims.append(test) \n",
    "    camera.stop_video_capture()\n",
    "    dt=time()-t0\n",
    "    outdict={}\n",
    "    outdict['xcen']=np.array(x)\n",
    "    outdict['ycen']=np.array(y)\n",
    "    outdict['images']=ims\n",
    "    print('dt = ',dt)\n",
    "    return outdict"
   ]
  },
  {
   "cell_type": "code",
   "execution_count": 81,
   "id": "c922b8f9",
   "metadata": {},
   "outputs": [
    {
     "name": "stdout",
     "output_type": "stream",
     "text": [
      "[500, 500]\n"
     ]
    },
    {
     "name": "stderr",
     "output_type": "stream",
     "text": [
      "C:\\ProgramData\\Anaconda3\\lib\\site-packages\\ipykernel_launcher.py:6: RuntimeWarning: More than 20 figures have been opened. Figures created through the pyplot interface (`matplotlib.pyplot.figure`) are retained until explicitly closed and may consume too much memory. (To control this warning, see the rcParam `figure.max_open_warning`).\n",
      "  \n"
     ]
    },
    {
     "name": "stdout",
     "output_type": "stream",
     "text": [
      "(492, 492)\n",
      "dt =  11.305309772491455\n"
     ]
    }
   ],
   "source": [
    "tests=vidcapture(camera=camera,exposure=200,nframes=50000,n8s=4)"
   ]
  },
  {
   "cell_type": "code",
   "execution_count": 83,
   "id": "8fee1051",
   "metadata": {},
   "outputs": [
    {
     "data": {
      "text/plain": [
       "<matplotlib.image.AxesImage at 0x18bb14d0a88>"
      ]
     },
     "execution_count": 83,
     "metadata": {},
     "output_type": "execute_result"
    }
   ],
   "source": [
    "figure()\n",
    "imshow(tests['images'][0])"
   ]
  },
  {
   "cell_type": "code",
   "execution_count": 25,
   "id": "da40bb0d",
   "metadata": {},
   "outputs": [],
   "source": [
    "def vidcapture_star(camera=camera,nframes=100,exposure=3000,gain=500,arcsec_per_pix=0.7989492266666666):\n",
    "    camera.set_control_value(asi.ASI_EXPOSURE, exposure)\n",
    "    camera.set_control_value(asi.ASI_GAIN, gain)\n",
    "    offsetxy = find_beacon_and_set_roi_max(camera=camera,exposure=10000)\n",
    "    camera.set_control_value(asi.ASI_EXPOSURE, exposure)\n",
    "    figure()\n",
    "    imshow(camera.capture())\n",
    "    print(offsetxy)\n",
    "    ims=[]\n",
    "    camera.start_video_capture()\n",
    "    t0=time()\n",
    "    x=[]\n",
    "    y=[]\n",
    "    for i in range(nframes):\n",
    "        test=camera.capture_video_frame()\n",
    "        xypos = star_centroid(test)\n",
    "        x.append(xypos[0])\n",
    "        y.append(xypos[1])\n",
    "        ims.append(test) \n",
    "    camera.stop_video_capture()\n",
    "    dt=time()-t0\n",
    "    outdict={}\n",
    "    outdict['xcen_arcsec']=np.array(x)*arcsec_per_pix\n",
    "    outdict['ycen_arcsec']=np.array(y)*arcsec_per_pix\n",
    "    outdict['images']=ims\n",
    "    print('dt = ',dt)\n",
    "    return outdict"
   ]
  },
  {
   "cell_type": "code",
   "execution_count": 26,
   "id": "bfa31b3e",
   "metadata": {},
   "outputs": [
    {
     "ename": "NameError",
     "evalue": "name 'camera2' is not defined",
     "output_type": "error",
     "traceback": [
      "\u001b[1;31m---------------------------------------------------------------------------\u001b[0m",
      "\u001b[1;31mNameError\u001b[0m                                 Traceback (most recent call last)",
      "\u001b[1;32m<ipython-input-26-99c9db9e101c>\u001b[0m in \u001b[0;36m<module>\u001b[1;34m\u001b[0m\n\u001b[1;32m----> 1\u001b[1;33m \u001b[1;32mdef\u001b[0m \u001b[0mvidcapture_2_star\u001b[0m\u001b[1;33m(\u001b[0m\u001b[0mcamera\u001b[0m\u001b[1;33m=\u001b[0m\u001b[0mcamera\u001b[0m\u001b[1;33m,\u001b[0m\u001b[0mcamera2\u001b[0m\u001b[1;33m=\u001b[0m\u001b[0mcamera2\u001b[0m\u001b[1;33m,\u001b[0m\u001b[0mnframes\u001b[0m\u001b[1;33m=\u001b[0m\u001b[1;36m100\u001b[0m\u001b[1;33m,\u001b[0m\u001b[0mexposure\u001b[0m\u001b[1;33m=\u001b[0m\u001b[1;36m3000\u001b[0m\u001b[1;33m,\u001b[0m\u001b[0mgain\u001b[0m\u001b[1;33m=\u001b[0m\u001b[1;36m500\u001b[0m\u001b[1;33m,\u001b[0m\u001b[0marcsec_per_pix\u001b[0m\u001b[1;33m=\u001b[0m\u001b[1;36m0.7989492266666666\u001b[0m\u001b[1;33m)\u001b[0m\u001b[1;33m:\u001b[0m\u001b[1;33m\u001b[0m\u001b[1;33m\u001b[0m\u001b[0m\n\u001b[0m\u001b[0;32m      2\u001b[0m     \u001b[0mcamera\u001b[0m\u001b[1;33m.\u001b[0m\u001b[0mset_control_value\u001b[0m\u001b[1;33m(\u001b[0m\u001b[0masi\u001b[0m\u001b[1;33m.\u001b[0m\u001b[0mASI_EXPOSURE\u001b[0m\u001b[1;33m,\u001b[0m \u001b[0mexposure\u001b[0m\u001b[1;33m)\u001b[0m\u001b[1;33m\u001b[0m\u001b[1;33m\u001b[0m\u001b[0m\n\u001b[0;32m      3\u001b[0m     \u001b[0mcamera\u001b[0m\u001b[1;33m.\u001b[0m\u001b[0mset_control_value\u001b[0m\u001b[1;33m(\u001b[0m\u001b[0masi\u001b[0m\u001b[1;33m.\u001b[0m\u001b[0mASI_GAIN\u001b[0m\u001b[1;33m,\u001b[0m \u001b[0mgain\u001b[0m\u001b[1;33m)\u001b[0m\u001b[1;33m\u001b[0m\u001b[1;33m\u001b[0m\u001b[0m\n\u001b[0;32m      4\u001b[0m     \u001b[0mcamera2\u001b[0m\u001b[1;33m.\u001b[0m\u001b[0mset_control_value\u001b[0m\u001b[1;33m(\u001b[0m\u001b[0masi\u001b[0m\u001b[1;33m.\u001b[0m\u001b[0mASI_EXPOSURE\u001b[0m\u001b[1;33m,\u001b[0m \u001b[0mexposure\u001b[0m\u001b[1;33m)\u001b[0m\u001b[1;33m\u001b[0m\u001b[1;33m\u001b[0m\u001b[0m\n\u001b[0;32m      5\u001b[0m     \u001b[0mcamera2\u001b[0m\u001b[1;33m.\u001b[0m\u001b[0mset_control_value\u001b[0m\u001b[1;33m(\u001b[0m\u001b[0masi\u001b[0m\u001b[1;33m.\u001b[0m\u001b[0mASI_GAIN\u001b[0m\u001b[1;33m,\u001b[0m \u001b[0mgain\u001b[0m\u001b[1;33m)\u001b[0m\u001b[1;33m\u001b[0m\u001b[1;33m\u001b[0m\u001b[0m\n",
      "\u001b[1;31mNameError\u001b[0m: name 'camera2' is not defined"
     ]
    }
   ],
   "source": [
    "def vidcapture_2_star(camera=camera,camera2=camera2,nframes=100,exposure=3000,gain=500,arcsec_per_pix=0.7989492266666666):\n",
    "    camera.set_control_value(asi.ASI_EXPOSURE, exposure)\n",
    "    camera.set_control_value(asi.ASI_GAIN, gain)\n",
    "    camera2.set_control_value(asi.ASI_EXPOSURE, exposure)\n",
    "    camera2.set_control_value(asi.ASI_GAIN, gain)\n",
    "    offsetxy = find_beacon_and_set_roi_max(camera=camera,exposure=10000)\n",
    "    camera.set_control_value(asi.ASI_EXPOSURE, exposure)\n",
    "    offsetxy2 = find_beacon_and_set_roi_max(camera=camera2,exposure=10000)\n",
    "    camera2.set_control_value(asi.ASI_EXPOSURE, exposure)\n",
    "\n",
    "    figure()\n",
    "    imshow(camera.capture())\n",
    "    print(offsetxy)\n",
    "    figure()\n",
    "    imshow(camera2.capture())\n",
    "    print(offsetxy2)\n",
    "\n",
    "    ims=[]\n",
    "    ims2=[]\n",
    "    camera.start_video_capture()\n",
    "    camera2.start_video_capture()\n",
    "    t0=time()\n",
    "    x=[]\n",
    "    y=[]\n",
    "    x2=[]\n",
    "    y2=[]\n",
    "\n",
    "    for i in range(nframes):\n",
    "        test=camera.capture_video_frame()\n",
    "        xypos = star_centroid(test)\n",
    "        x.append(xypos[0])\n",
    "        y.append(xypos[1])\n",
    "        ims.append(test) \n",
    "        test2=camera2.capture_video_frame()\n",
    "        xypos2 = star_centroid(test2)\n",
    "        x2.append(xypos2[0])\n",
    "        y2.append(xypos2[1])\n",
    "        ims2.append(test2)\n",
    "    camera.stop_video_capture()\n",
    "    camera2.stop_video_capture()\n",
    "    dt=time()-t0\n",
    "    outdict={}\n",
    "    outdict['xcen_arcsec']=np.array(x)*arcsec_per_pix\n",
    "    outdict['ycen_arcsec']=np.array(y)*arcsec_per_pix\n",
    "    outdict['images']=ims\n",
    "    outdict['xcen2_arcsec']=np.array(x2)*arcsec_per_pix\n",
    "    outdict['ycen2_arcsec']=np.array(y2)*arcsec_per_pix\n",
    "    outdict['images2']=ims2\n",
    "\n",
    "    print('dt = ',dt)\n",
    "    return outdict"
   ]
  },
  {
   "cell_type": "code",
   "execution_count": 27,
   "id": "20dedaa2",
   "metadata": {},
   "outputs": [
    {
     "ename": "NameError",
     "evalue": "name 'camera2' is not defined",
     "output_type": "error",
     "traceback": [
      "\u001b[1;31m---------------------------------------------------------------------------\u001b[0m",
      "\u001b[1;31mNameError\u001b[0m                                 Traceback (most recent call last)",
      "\u001b[1;32m<ipython-input-27-939d92ed39e3>\u001b[0m in \u001b[0;36m<module>\u001b[1;34m\u001b[0m\n\u001b[1;32m----> 1\u001b[1;33m \u001b[1;32mdef\u001b[0m \u001b[0mvidcapture_sync\u001b[0m\u001b[1;33m(\u001b[0m\u001b[0mcamera\u001b[0m\u001b[1;33m=\u001b[0m\u001b[0mcamera\u001b[0m\u001b[1;33m,\u001b[0m\u001b[0mcamera2\u001b[0m\u001b[1;33m=\u001b[0m\u001b[0mcamera2\u001b[0m\u001b[1;33m,\u001b[0m\u001b[0mnframes\u001b[0m\u001b[1;33m=\u001b[0m\u001b[1;36m1000\u001b[0m\u001b[1;33m,\u001b[0m\u001b[0mexposure\u001b[0m\u001b[1;33m=\u001b[0m\u001b[1;36m1000\u001b[0m\u001b[1;33m,\u001b[0m\u001b[0mgain\u001b[0m\u001b[1;33m=\u001b[0m\u001b[1;36m350\u001b[0m\u001b[1;33m)\u001b[0m\u001b[1;33m:\u001b[0m\u001b[1;33m\u001b[0m\u001b[1;33m\u001b[0m\u001b[0m\n\u001b[0m\u001b[0;32m      2\u001b[0m     \u001b[0mcamera\u001b[0m\u001b[1;33m.\u001b[0m\u001b[0mset_control_value\u001b[0m\u001b[1;33m(\u001b[0m\u001b[0masi\u001b[0m\u001b[1;33m.\u001b[0m\u001b[0mASI_EXPOSURE\u001b[0m\u001b[1;33m,\u001b[0m \u001b[0mexposure\u001b[0m\u001b[1;33m)\u001b[0m\u001b[1;33m\u001b[0m\u001b[1;33m\u001b[0m\u001b[0m\n\u001b[0;32m      3\u001b[0m     \u001b[0mcamera\u001b[0m\u001b[1;33m.\u001b[0m\u001b[0mset_control_value\u001b[0m\u001b[1;33m(\u001b[0m\u001b[0masi\u001b[0m\u001b[1;33m.\u001b[0m\u001b[0mASI_GAIN\u001b[0m\u001b[1;33m,\u001b[0m \u001b[0mgain\u001b[0m\u001b[1;33m)\u001b[0m\u001b[1;33m\u001b[0m\u001b[1;33m\u001b[0m\u001b[0m\n\u001b[0;32m      4\u001b[0m     \u001b[0mcamera2\u001b[0m\u001b[1;33m.\u001b[0m\u001b[0mset_control_value\u001b[0m\u001b[1;33m(\u001b[0m\u001b[0masi\u001b[0m\u001b[1;33m.\u001b[0m\u001b[0mASI_EXPOSURE\u001b[0m\u001b[1;33m,\u001b[0m \u001b[0mexposure\u001b[0m\u001b[1;33m)\u001b[0m\u001b[1;33m\u001b[0m\u001b[1;33m\u001b[0m\u001b[0m\n\u001b[0;32m      5\u001b[0m     \u001b[0mcamera2\u001b[0m\u001b[1;33m.\u001b[0m\u001b[0mset_control_value\u001b[0m\u001b[1;33m(\u001b[0m\u001b[0masi\u001b[0m\u001b[1;33m.\u001b[0m\u001b[0mASI_GAIN\u001b[0m\u001b[1;33m,\u001b[0m \u001b[0mgain\u001b[0m\u001b[1;33m)\u001b[0m\u001b[1;33m\u001b[0m\u001b[1;33m\u001b[0m\u001b[0m\n",
      "\u001b[1;31mNameError\u001b[0m: name 'camera2' is not defined"
     ]
    }
   ],
   "source": [
    "def vidcapture_sync(camera=camera,camera2=camera2,nframes=1000,exposure=1000,gain=350):\n",
    "    camera.set_control_value(asi.ASI_EXPOSURE, exposure)\n",
    "    camera.set_control_value(asi.ASI_GAIN, gain)\n",
    "    camera2.set_control_value(asi.ASI_EXPOSURE, exposure)\n",
    "    camera2.set_control_value(asi.ASI_GAIN, gain)\n",
    "    camera.set_roi(start_x=500,start_y=500,width=128,height=128)\n",
    "    camera2.set_roi(start_x=500,start_y=500,width=128,height=128)\n",
    "    camera.start_video_capture()\n",
    "    camera2.start_video_capture()\n",
    "    t0=time()\n",
    "    s1=[]\n",
    "    s2=[]\n",
    "    for i in range(nframes):\n",
    "        test=camera.capture_video_frame()\n",
    "        s1.append(sum(test))\n",
    "        test2=camera2.capture_video_frame()\n",
    "        s2.append(sum(test2))\n",
    "    camera.stop_video_capture()\n",
    "    camera2.stop_video_capture()\n",
    "    dt=time()-t0\n",
    "    print('dt = ',dt)\n",
    "    return s1,s2"
   ]
  },
  {
   "cell_type": "code",
   "execution_count": 24,
   "id": "f9c1aa9a",
   "metadata": {},
   "outputs": [
    {
     "name": "stdout",
     "output_type": "stream",
     "text": [
      "dt =  10.105336666107178\n"
     ]
    }
   ],
   "source": [
    "s1ssc,s2ssc=vidcapture_sync(camera=camera,camera2=camera2,exposure=10000,nframes=1000)"
   ]
  },
  {
   "cell_type": "code",
   "execution_count": 25,
   "id": "a1224d38",
   "metadata": {},
   "outputs": [
    {
     "data": {
      "text/plain": [
       "<matplotlib.legend.Legend at 0x179c81b3bc8>"
      ]
     },
     "execution_count": 25,
     "metadata": {},
     "output_type": "execute_result"
    }
   ],
   "source": [
    "exposure=10\n",
    "led_rate=10\n",
    "figure()\n",
    "title('Pulsed LED test of 2 camera synchronization- with test cables \\n acquisitions at %s msec, LED %s Hz 50 duty cycle 1/10/24' %(str(exposure), str(led_rate)))\n",
    "xlabel('Image sample')\n",
    "ylabel('Sum of ROI pixels (mean subtracted) [arb]')\n",
    "plot(s1ssc-mean(s1ssc),marker='x',label ='Camera 1')\n",
    "plot(s2ssc-mean(s2ssc),marker='x',label = 'Camera 2')\n",
    "legend()"
   ]
  },
  {
   "cell_type": "code",
   "execution_count": 56,
   "id": "70d07aee",
   "metadata": {},
   "outputs": [
    {
     "data": {
      "text/plain": [
       "<matplotlib.legend.Legend at 0x2a703a71608>"
      ]
     },
     "execution_count": 56,
     "metadata": {},
     "output_type": "execute_result"
    }
   ],
   "source": [
    "exposure=2000\n",
    "led_rate=10\n",
    "figure()\n",
    "title('Pulsed LED test of 2 camera synchronization \\n acquisitions at %s msec, LED %s Hz duty cycle 1/10/24' %(str(exposure), str(led_rate)))\n",
    "xlabel('Image sample')\n",
    "ylabel('Sum of ROI pixels (mean subtracted) [arb]')\n",
    "plot(s1-mean(s1),marker='x',label ='Camera 1')\n",
    "plot(s2-mean(s2),marker='x',label = 'Camera 2')\n",
    "legend()"
   ]
  },
  {
   "cell_type": "code",
   "execution_count": null,
   "id": "cb2735e2",
   "metadata": {},
   "outputs": [],
   "source": []
  },
  {
   "cell_type": "code",
   "execution_count": null,
   "id": "d9959429",
   "metadata": {},
   "outputs": [],
   "source": []
  },
  {
   "cell_type": "code",
   "execution_count": null,
   "id": "d569fbb2",
   "metadata": {},
   "outputs": [],
   "source": []
  },
  {
   "cell_type": "code",
   "execution_count": null,
   "id": "70d56046",
   "metadata": {},
   "outputs": [],
   "source": []
  },
  {
   "cell_type": "code",
   "execution_count": null,
   "id": "2166be2b",
   "metadata": {},
   "outputs": [],
   "source": []
  },
  {
   "cell_type": "code",
   "execution_count": 152,
   "id": "c297dd30",
   "metadata": {},
   "outputs": [],
   "source": [
    "camera.stop_video_capture()\n",
    "camera2.stop_video_capture()"
   ]
  },
  {
   "cell_type": "code",
   "execution_count": 119,
   "id": "168f5f05",
   "metadata": {
    "scrolled": false
   },
   "outputs": [
    {
     "name": "stdout",
     "output_type": "stream",
     "text": [
      "(649, 1653)\n",
      "(994, 1503)\n",
      "(1589, 585)\n",
      "(1439, 930)\n",
      "dt =  100.53560972213745\n"
     ]
    }
   ],
   "source": [
    "polaris_2x_13_240110_2ms=vidcapture_2_star(camera=camera,camera2=camera2,exposure=2000,nframes=50000)\n",
    "save_dict_to_h5(polaris_2x_13_240110_2ms,filename='polaris_2x_13_240110_2ms_100sec_capture.h5')"
   ]
  },
  {
   "cell_type": "code",
   "execution_count": 83,
   "id": "b2876094",
   "metadata": {},
   "outputs": [],
   "source": [
    "ddict=polaris_2x_5_240110_2ms.copy()\n",
    "figure(figsize=[8,6])\n",
    "xlabel('X position [arcsec]')\n",
    "ylabel('Y position [arcsec]')\n",
    "xsdev=np.std(ddict['xcen_arcsec'])\n",
    "ysdev=np.std(ddict['ycen_arcsec'])\n",
    "\n",
    "xsdev2=np.std(ddict['xcen2_arcsec'])\n",
    "ysdev2=np.std(ddict['ycen2_arcsec'])\n",
    "\n",
    "title('Polaris 2 camera positions at 500 Hz, 1/10/24(5), 100sec.  Upgraded centroids:\\n  xstdev:'+str(xsdev)+' ystdev:'+str(ysdev)+ '\\n x2stdev:'+str(xsdev2)+' y2stdev:'+str(ysdev2))\n",
    "plot(ddict['xcen_arcsec'],ddict['ycen_arcsec'],'x',label='Camera 1')\n",
    "plot(ddict['xcen2_arcsec'],ddict['ycen2_arcsec'],'x',label='Camera 2')\n",
    "legend()\n",
    "savefig('Polaris/polaris_2x_5_240110_2ms_100sec_xy.png')"
   ]
  },
  {
   "cell_type": "code",
   "execution_count": 112,
   "id": "f3ab5b9d",
   "metadata": {},
   "outputs": [],
   "source": [
    "ddict=polaris_2x_11_240110_2ms.copy()\n",
    "figure(figsize=[8,6])\n",
    "xlabel('Sample [2ms]')\n",
    "ylabel('X position [arcsec]')\n",
    "xsdev=np.std(ddict['xcen_arcsec'])\n",
    "ysdev=np.std(ddict['ycen_arcsec'])\n",
    "\n",
    "xsdev2=np.std(ddict['xcen2_arcsec'])\n",
    "ysdev2=np.std(ddict['ycen2_arcsec'])\n",
    "\n",
    "title('Polaris 2 camera positions at 500 Hz, 1/10/24(11), 100sec\\nUpgraded centroids:  xstdev:'+str(xsdev)+' ystdev:'+str(ysdev))\n",
    "plot(ddict['xcen_arcsec'],label='Camera 1')\n",
    "plot(ddict['xcen2_arcsec'],label='Camera 2')\n",
    "legend()\n",
    "savefig('Polaris/polaris_2x_11_240110_2ms_100sec_xx.png')"
   ]
  },
  {
   "cell_type": "code",
   "execution_count": 124,
   "id": "654e7d5a",
   "metadata": {},
   "outputs": [],
   "source": [
    "ddict=polaris_2x_11_240110_2ms.copy()\n",
    "figure(figsize=[8,6])\n",
    "xlabel('Sample [3ms]')\n",
    "ylabel('Y position [arcsec]')\n",
    "xsdev=np.std(ddict['xcen_arcsec'])\n",
    "ysdev=np.std(ddict['ycen_arcsec'])\n",
    "\n",
    "xsdev2=np.std(ddict['xcen2_arcsec'])\n",
    "ysdev2=np.std(ddict['ycen2_arcsec'])\n",
    "\n",
    "title('Polaris 2 camera positions at 500 Hz, 1/10/24(11), 100sec')\n",
    "plot(ddict['ycen_arcsec'],label='Camera 1')\n",
    "plot(ddict['ycen2_arcsec'],label='Camera 2')\n",
    "legend()\n",
    "savefig('Polaris/polaris_2x_11_240110_2ms_100sec_yy.png')"
   ]
  },
  {
   "cell_type": "code",
   "execution_count": 142,
   "id": "9b0094b2",
   "metadata": {},
   "outputs": [
    {
     "data": {
      "text/plain": [
       "<matplotlib.legend.Legend at 0x1f05c430f08>"
      ]
     },
     "execution_count": 142,
     "metadata": {},
     "output_type": "execute_result"
    }
   ],
   "source": [
    "nsmth=10 #smoothing bin width\n",
    "hp=1  #highpass cutoff in hz\n",
    "fs=500  #sample rate in hz\n",
    "ddict=polaris_2x_10_240110_2ms.copy()\n",
    "figure(figsize=[8,6])\n",
    "xlabel('Sample [3ms]')\n",
    "#ylabel('Y position [arcsec]')\n",
    "#xlabel('Cam 1 X position [arcsec]')\n",
    "ylabel('Cam 1, 2 Y position [arcsec]')\n",
    "\n",
    "x1 = smooth(butter_highpass_filter(ddict['ycen_arcsec'],hp,fs),box_pts=nsmth)\n",
    "x2 = smooth(butter_highpass_filter(ddict['ycen2_arcsec'],hp,fs),box_pts=nsmth)\n",
    "title('Polaris 2 camera positions at 500 Hz, 1/10/24(10), 100sec \\n Highpass %s Hz smoothed %s moving average' %(str(hp), str(nsmth)))\n",
    "#plot(x1,x2,'x',label='Camera 1')\n",
    "plot(x1,label='Camera 1')\n",
    "plot(x2,label='Camera 2')\n",
    "legend()\n",
    "#savefig('Polaris/polaris_2x_11_240110_2ms_100sec_yy.png')"
   ]
  },
  {
   "cell_type": "code",
   "execution_count": 123,
   "id": "e5aca504",
   "metadata": {},
   "outputs": [
    {
     "ename": "NameError",
     "evalue": "name 'polaris_240109_8_2ms' is not defined",
     "output_type": "error",
     "traceback": [
      "\u001b[1;31m---------------------------------------------------------------------------\u001b[0m",
      "\u001b[1;31mNameError\u001b[0m                                 Traceback (most recent call last)",
      "\u001b[1;32m<ipython-input-123-dea7d1eb5a56>\u001b[0m in \u001b[0;36m<module>\u001b[1;34m\u001b[0m\n\u001b[1;32m----> 1\u001b[1;33m \u001b[0mddict\u001b[0m\u001b[1;33m=\u001b[0m\u001b[0mpolaris_240109_8_2ms\u001b[0m\u001b[1;33m.\u001b[0m\u001b[0mcopy\u001b[0m\u001b[1;33m(\u001b[0m\u001b[1;33m)\u001b[0m\u001b[1;33m\u001b[0m\u001b[1;33m\u001b[0m\u001b[0m\n\u001b[0m\u001b[0;32m      2\u001b[0m \u001b[0mfigure\u001b[0m\u001b[1;33m(\u001b[0m\u001b[0mfigsize\u001b[0m\u001b[1;33m=\u001b[0m\u001b[1;33m[\u001b[0m\u001b[1;36m8\u001b[0m\u001b[1;33m,\u001b[0m\u001b[1;36m6\u001b[0m\u001b[1;33m]\u001b[0m\u001b[1;33m)\u001b[0m\u001b[1;33m\u001b[0m\u001b[1;33m\u001b[0m\u001b[0m\n\u001b[0;32m      3\u001b[0m \u001b[0mxlabel\u001b[0m\u001b[1;33m(\u001b[0m\u001b[1;34m'X position [arcsec]'\u001b[0m\u001b[1;33m)\u001b[0m\u001b[1;33m\u001b[0m\u001b[1;33m\u001b[0m\u001b[0m\n\u001b[0;32m      4\u001b[0m \u001b[0mylabel\u001b[0m\u001b[1;33m(\u001b[0m\u001b[1;34m'Y position [arcsec]'\u001b[0m\u001b[1;33m)\u001b[0m\u001b[1;33m\u001b[0m\u001b[1;33m\u001b[0m\u001b[0m\n\u001b[0;32m      5\u001b[0m \u001b[0mxsdev\u001b[0m\u001b[1;33m=\u001b[0m\u001b[0mnp\u001b[0m\u001b[1;33m.\u001b[0m\u001b[0mstd\u001b[0m\u001b[1;33m(\u001b[0m\u001b[0mddict\u001b[0m\u001b[1;33m[\u001b[0m\u001b[1;34m'xcen_arcsec'\u001b[0m\u001b[1;33m]\u001b[0m\u001b[1;33m)\u001b[0m\u001b[1;33m\u001b[0m\u001b[1;33m\u001b[0m\u001b[0m\n",
      "\u001b[1;31mNameError\u001b[0m: name 'polaris_240109_8_2ms' is not defined"
     ]
    }
   ],
   "source": [
    "ddict=polaris_240109_8_2ms.copy()\n",
    "figure(figsize=[8,6])\n",
    "xlabel('X position [arcsec]')\n",
    "ylabel('Y position [arcsec]')\n",
    "xsdev=np.std(ddict['xcen_arcsec'])\n",
    "ysdev=np.std(ddict['ycen_arcsec'])\n",
    "title('Polaris_8 position at 500 Hz, 1/9/24, 100sec\\nUpgraded centroids:  xstdev:'+str(xsdev)+' ystdev:'+str(ysdev))\n",
    "plot(ddict['xcen_arcsec'],ddict['ycen_arcsec'],'x')\n",
    "#savefig('Polaris/polaris_240109_8_2ms_100sec_xy.png')"
   ]
  },
  {
   "cell_type": "code",
   "execution_count": 91,
   "id": "de5a25ff",
   "metadata": {},
   "outputs": [
    {
     "data": {
      "text/plain": [
       "<matplotlib.image.AxesImage at 0x1ef22d6a6c8>"
      ]
     },
     "execution_count": 91,
     "metadata": {},
     "output_type": "execute_result"
    }
   ],
   "source": [
    "figure()\n",
    "imshow(polaris_2x_5_240110_2ms['images2'][100])"
   ]
  },
  {
   "cell_type": "code",
   "execution_count": 44,
   "id": "4abb043f",
   "metadata": {},
   "outputs": [],
   "source": [
    "camera.stop_video_capture()\n",
    "camera2.stop_video_capture()"
   ]
  },
  {
   "cell_type": "code",
   "execution_count": 173,
   "id": "d8cb8de4",
   "metadata": {},
   "outputs": [
    {
     "name": "stdout",
     "output_type": "stream",
     "text": [
      "64.85607709750568\n",
      "67.56395691609977\n"
     ]
    },
    {
     "data": {
      "text/plain": [
       "<matplotlib.image.AxesImage at 0x177ab3d2fc8>"
      ]
     },
     "execution_count": 173,
     "metadata": {},
     "output_type": "execute_result"
    }
   ],
   "source": [
    "arcsec_per_pix=0.7989492266666666\n",
    "print(polaris_240109_4_5ms['xcen_arcsec'][0]/arcsec_per_pix)\n",
    "print(polaris_240109_4_5ms['ycen_arcsec'][0]/arcsec_per_pix)\n",
    "figure()\n",
    "imshow(polaris_240109_4_5ms['images'][0])"
   ]
  },
  {
   "cell_type": "code",
   "execution_count": 224,
   "id": "5df44e05",
   "metadata": {},
   "outputs": [],
   "source": [
    "def replace_xy(in_dict,arcsec_per_pix=0.7989492266666666):\n",
    "    #use star_centroid to replace xy estimate with centroid one (better?)\n",
    "    out_dict={}\n",
    "    out_dict['images'] = [] \n",
    "    out_dict['xcen_arcsec'] = []\n",
    "    out_dict['ycen_arcsec'] = []\n",
    "    \n",
    "    for img in in_dict['images']:\n",
    "        out_dict['images'].append(img)\n",
    "        xcen,ycen = star_centroid(img)\n",
    "        out_dict['xcen_arcsec'].append(xcen*arcsec_per_pix)\n",
    "        out_dict['ycen_arcsec'].append(ycen*arcsec_per_pix)\n",
    "    return out_dict"
   ]
  },
  {
   "cell_type": "code",
   "execution_count": 231,
   "id": "ea881867",
   "metadata": {},
   "outputs": [],
   "source": [
    "polaris_240109_1_5ms_r=replace_xy(polaris_240109_1_5ms)\n",
    "polaris_240109_2_1ms_r=replace_xy(polaris_240109_2_1ms)\n",
    "polaris_240109_3_1ms_r=replace_xy(polaris_240109_3_1ms)\n",
    "polaris_240109_4_5ms_r=replace_xy(polaris_240109_4_5ms)\n"
   ]
  },
  {
   "cell_type": "code",
   "execution_count": 227,
   "id": "6d222737",
   "metadata": {},
   "outputs": [
    {
     "data": {
      "text/plain": [
       "2000"
      ]
     },
     "execution_count": 227,
     "metadata": {},
     "output_type": "execute_result"
    }
   ],
   "source": [
    "len(polaris_240109_1_5ms_r['xcen_arcsec'])"
   ]
  },
  {
   "cell_type": "code",
   "execution_count": 222,
   "id": "33a5ae50",
   "metadata": {},
   "outputs": [
    {
     "data": {
      "text/plain": [
       "<matplotlib.image.AxesImage at 0x1767149fc48>"
      ]
     },
     "execution_count": 222,
     "metadata": {},
     "output_type": "execute_result"
    }
   ],
   "source": [
    "gray_image = polaris_240109_1_5ms['images'][1].copy()\n",
    "ret,thresh = cv2.threshold(gray_image,127,255,cv2.THRESH_BINARY+cv2.THRESH_OTSU)\n",
    "figure()\n",
    "imshow(thresh)\n"
   ]
  },
  {
   "cell_type": "code",
   "execution_count": 268,
   "id": "87b50eeb",
   "metadata": {},
   "outputs": [],
   "source": [
    "img = polaris_240109_5_2ms['images'] # some array of images\n",
    "frames = [] # for storing the generated images\n",
    "fig = plt.figure()\n",
    "for i in range(len(img)):\n",
    "    frames.append([plt.imshow(img[i], cmap=cm.Greys_r,animated=True)])\n",
    "\n",
    "ani = animation.ArtistAnimation(fig, frames, interval=50, blit=True,\n",
    "                                repeat_delay=1000)\n",
    "ani.save('Polaris_240109_5_500Hz_10sec.mp4')\n"
   ]
  },
  {
   "cell_type": "code",
   "execution_count": 53,
   "id": "0c2b2215",
   "metadata": {},
   "outputs": [
    {
     "ename": "AttributeError",
     "evalue": "'tuple' object has no attribute 'flatten'",
     "output_type": "error",
     "traceback": [
      "\u001b[1;31m---------------------------------------------------------------------------\u001b[0m",
      "\u001b[1;31mAttributeError\u001b[0m                            Traceback (most recent call last)",
      "\u001b[1;32m<ipython-input-53-a5dd0643d3b2>\u001b[0m in \u001b[0;36m<module>\u001b[1;34m\u001b[0m\n\u001b[1;32m----> 1\u001b[1;33m \u001b[0mshape\u001b[0m\u001b[1;33m(\u001b[0m\u001b[0mpolaris_1\u001b[0m\u001b[1;33m[\u001b[0m\u001b[1;34m'xcen_arcsec'\u001b[0m\u001b[1;33m]\u001b[0m\u001b[1;33m)\u001b[0m\u001b[1;33m.\u001b[0m\u001b[0mflatten\u001b[0m\u001b[1;33m(\u001b[0m\u001b[1;33m)\u001b[0m\u001b[1;33m\u001b[0m\u001b[1;33m\u001b[0m\u001b[0m\n\u001b[0m",
      "\u001b[1;31mAttributeError\u001b[0m: 'tuple' object has no attribute 'flatten'"
     ]
    }
   ],
   "source": [
    "# Create two subplots and unpack the output array immediately\n",
    "f, (ax1, ax2) = plt.subplots(1, 2, sharey=True)\n",
    "ax1.plot(x, y)\n",
    "ax1.set_title('Sharing Y axis')\n",
    "ax2.scatter(x, y)"
   ]
  },
  {
   "cell_type": "code",
   "execution_count": 146,
   "id": "2d4d6d11",
   "metadata": {},
   "outputs": [],
   "source": [
    "img1 = polaris_2x_10_240110_2ms['images'][:500] # some array of images\n",
    "img2 = polaris_2x_10_240110_2ms['images2'][:500] # some array of images\n",
    "frames = [] # for storing the generated images\n",
    "fig,(ax1,ax2) = plt.subplots(1,2)\n",
    "for i in range(len(img1)):\n",
    "    frames.append([ax1.imshow(img1[i], cmap=cm.Greys_r,animated=True),ax2.imshow(img2[i], cmap=cm.Greys_r,animated=True)])\n",
    "\n",
    "ani = animation.ArtistAnimation(fig, frames, interval=50, blit=True,\n",
    "                                repeat_delay=1000)\n",
    "ani.save('Polaris_11_2x.mp4')\n"
   ]
  },
  {
   "cell_type": "code",
   "execution_count": 132,
   "id": "ddb89815",
   "metadata": {},
   "outputs": [
    {
     "data": {
      "text/plain": [
       "<matplotlib.image.AxesImage at 0x175eb815688>"
      ]
     },
     "execution_count": 132,
     "metadata": {},
     "output_type": "execute_result"
    }
   ],
   "source": [
    "figure()\n",
    "imshow(ddict['images'][1300])"
   ]
  },
  {
   "cell_type": "code",
   "execution_count": 41,
   "id": "ad5c6645",
   "metadata": {},
   "outputs": [
    {
     "name": "stdout",
     "output_type": "stream",
     "text": [
      "dt =  11.810209035873413\n"
     ]
    }
   ],
   "source": [
    "x1,y1,ims1,x2,y2,ims=vidcapture2(camera1=camera,camera2=camera2,nframes=10000,offsetxy1=[512,512],n8s=8)"
   ]
  },
  {
   "cell_type": "code",
   "execution_count": 8,
   "id": "0a352900",
   "metadata": {},
   "outputs": [
    {
     "ename": "NameError",
     "evalue": "name 'camera2' is not defined",
     "output_type": "error",
     "traceback": [
      "\u001b[1;31m---------------------------------------------------------------------------\u001b[0m",
      "\u001b[1;31mNameError\u001b[0m                                 Traceback (most recent call last)",
      "\u001b[1;32m<ipython-input-8-465e280a3305>\u001b[0m in \u001b[0;36m<module>\u001b[1;34m\u001b[0m\n\u001b[1;32m----> 1\u001b[1;33m \u001b[1;32mdef\u001b[0m \u001b[0mvidcapture2\u001b[0m\u001b[1;33m(\u001b[0m\u001b[0mcamera1\u001b[0m\u001b[1;33m=\u001b[0m\u001b[0mcamera\u001b[0m\u001b[1;33m,\u001b[0m\u001b[0mcamera2\u001b[0m\u001b[1;33m=\u001b[0m\u001b[0mcamera2\u001b[0m\u001b[1;33m,\u001b[0m\u001b[0mnframes\u001b[0m\u001b[1;33m=\u001b[0m\u001b[1;36m10\u001b[0m\u001b[1;33m,\u001b[0m\u001b[0mexposure1\u001b[0m\u001b[1;33m=\u001b[0m\u001b[1;36m32\u001b[0m\u001b[1;33m,\u001b[0m\u001b[0mgain1\u001b[0m\u001b[1;33m=\u001b[0m\u001b[1;36m400\u001b[0m\u001b[1;33m,\u001b[0m\u001b[0mexposure2\u001b[0m\u001b[1;33m=\u001b[0m\u001b[1;36m32\u001b[0m\u001b[1;33m,\u001b[0m\u001b[0mgain2\u001b[0m\u001b[1;33m=\u001b[0m\u001b[1;36m0\u001b[0m\u001b[1;33m,\u001b[0m\u001b[0moffsetxy1\u001b[0m\u001b[1;33m=\u001b[0m\u001b[1;32mNone\u001b[0m\u001b[1;33m,\u001b[0m\u001b[0mn8s\u001b[0m\u001b[1;33m=\u001b[0m\u001b[1;36m8\u001b[0m\u001b[1;33m)\u001b[0m\u001b[1;33m:\u001b[0m\u001b[1;33m\u001b[0m\u001b[1;33m\u001b[0m\u001b[0m\n\u001b[0m\u001b[0;32m      2\u001b[0m     \u001b[0mcamera1\u001b[0m\u001b[1;33m.\u001b[0m\u001b[0mset_control_value\u001b[0m\u001b[1;33m(\u001b[0m\u001b[0masi\u001b[0m\u001b[1;33m.\u001b[0m\u001b[0mASI_EXPOSURE\u001b[0m\u001b[1;33m,\u001b[0m \u001b[0mexposure1\u001b[0m\u001b[1;33m)\u001b[0m\u001b[1;33m\u001b[0m\u001b[1;33m\u001b[0m\u001b[0m\n\u001b[0;32m      3\u001b[0m     \u001b[0mcamera1\u001b[0m\u001b[1;33m.\u001b[0m\u001b[0mset_control_value\u001b[0m\u001b[1;33m(\u001b[0m\u001b[0masi\u001b[0m\u001b[1;33m.\u001b[0m\u001b[0mASI_GAIN\u001b[0m\u001b[1;33m,\u001b[0m \u001b[0mgain1\u001b[0m\u001b[1;33m)\u001b[0m\u001b[1;33m\u001b[0m\u001b[1;33m\u001b[0m\u001b[0m\n\u001b[0;32m      4\u001b[0m     \u001b[1;32mif\u001b[0m \u001b[0moffsetxy1\u001b[0m \u001b[1;33m==\u001b[0m \u001b[1;32mNone\u001b[0m\u001b[1;33m:\u001b[0m\u001b[1;33m\u001b[0m\u001b[1;33m\u001b[0m\u001b[0m\n\u001b[0;32m      5\u001b[0m         \u001b[0moffsetxy1\u001b[0m \u001b[1;33m=\u001b[0m \u001b[0mfind_beacon_and_set_roi_max\u001b[0m\u001b[1;33m(\u001b[0m\u001b[0mcamera\u001b[0m\u001b[1;33m=\u001b[0m\u001b[0mcamera1\u001b[0m\u001b[1;33m,\u001b[0m\u001b[0mn8s\u001b[0m\u001b[1;33m=\u001b[0m\u001b[0mn8s\u001b[0m\u001b[1;33m)\u001b[0m\u001b[1;33m\u001b[0m\u001b[1;33m\u001b[0m\u001b[0m\n",
      "\u001b[1;31mNameError\u001b[0m: name 'camera2' is not defined"
     ]
    }
   ],
   "source": [
    "def vidcapture2(camera1=camera,camera2=camera2,nframes=10,exposure1=32,gain1=400,exposure2=32,gain2=0,offsetxy1=None,n8s=8):\n",
    "    camera1.set_control_value(asi.ASI_EXPOSURE, exposure1)\n",
    "    camera1.set_control_value(asi.ASI_GAIN, gain1)\n",
    "    if offsetxy1 == None:\n",
    "        offsetxy1 = find_beacon_and_set_roi_max(camera=camera1,n8s=n8s)\n",
    "    else:\n",
    "        start_x = offsetxy1[0] - 4*n8s*8\n",
    "        start_y = offsetxy1[1] - n8s*8\n",
    "        camera1.set_roi(start_x=start_x,start_y=start_y,width=2*n8s*8,height=2*n8s*8)\n",
    "        camera2.set_roi(start_x=start_x,start_y=start_y,width=2*n8s*8,height=2*n8s*8)\n",
    "    camera2.set_control_value(asi.ASI_EXPOSURE, exposure2)\n",
    "    camera2.set_control_value(asi.ASI_GAIN, gain2)\n",
    "    offsetxy2 = offsetxy1  #find_beacon_and_set_roi_max(camera=camera2)\n",
    "\n",
    "    ims1=[]\n",
    "    ims2=[]\n",
    "    camera1.start_video_capture()\n",
    "    camera2.start_video_capture()\n",
    "    t0=time()\n",
    "    x1=[]\n",
    "    y1=[]\n",
    "    x2=[]\n",
    "    y2=[]\n",
    "    for i in range(nframes):\n",
    "        test1=camera1.capture_video_frame()\n",
    "        beamparam1 = lbs.basic_beam_size(test1)\n",
    "        x1.append(beamparam1[0])\n",
    "        y1.append(beamparam1[1])\n",
    "        ims1.append(test1) \n",
    "        test2=camera2.capture_video_frame()\n",
    "        beamparam2 = lbs.basic_beam_size(test2)\n",
    "        x2.append(beamparam2[0])\n",
    "        y2.append(beamparam2[1])\n",
    "        ims2.append(test2) \n",
    "    camera1.stop_video_capture()\n",
    "    camera2.stop_video_capture()\n",
    "    dt=time()-t0\n",
    "    print('dt = ',dt)\n",
    "    return x1,y1,ims1,x2,y2,ims2"
   ]
  },
  {
   "cell_type": "code",
   "execution_count": 38,
   "id": "e4a07c83",
   "metadata": {},
   "outputs": [],
   "source": [
    "camera2.stop_video_capture()"
   ]
  },
  {
   "cell_type": "code",
   "execution_count": 47,
   "id": "390f827e",
   "metadata": {
    "scrolled": true
   },
   "outputs": [],
   "source": [
    "freqs1=[]\n",
    "xamplitudes1=[]\n",
    "yamplitudes1=[]\n",
    "for freq in linspace(1,500,100):\n",
    "    freq=int(freq)\n",
    "    print('Frequency',freq)\n",
    "    set_freq_volts(sdg1025,freq,2.0)\n",
    "    x,y,ims = vidcapture(camera,nframes=1000,exposure=32,gain=0)\n",
    "    xamp = max(x)-min(x)\n",
    "    yamp = max(y)-min(y)\n",
    "    xamplitudes1.append(xamp)\n",
    "    yamplitudes1.append(yamp)\n",
    "    freqs1.append(freq)"
   ]
  },
  {
   "cell_type": "code",
   "execution_count": 54,
   "id": "92df1aa7",
   "metadata": {},
   "outputs": [
    {
     "name": "stderr",
     "output_type": "stream",
     "text": [
      "No handles with labels found to put in legend.\n"
     ]
    },
    {
     "data": {
      "text/plain": [
       "[<matplotlib.lines.Line2D at 0x13d82167b88>]"
      ]
     },
     "execution_count": 54,
     "metadata": {},
     "output_type": "execute_result"
    }
   ],
   "source": [
    "figure()\n",
    "title('Beacon fiber motion from image at ~1kHz framerate \\n 750mm/200mm Fl telescope, 4V PP on FTA')\n",
    "xlabel('Frequency [Hz]')\n",
    "ylabel('X p-p amplitude [$\\mu$]')\n",
    "legend()\n",
    "plot(freqs1,np.array(xamplitudes1)*remote_microns_per_local_pixel)"
   ]
  },
  {
   "cell_type": "code",
   "execution_count": 10,
   "id": "e6b11671",
   "metadata": {},
   "outputs": [
    {
     "name": "stdout",
     "output_type": "stream",
     "text": [
      "Using matplotlib backend: Qt5Agg\n",
      "Populating the interactive namespace from numpy and matplotlib\n"
     ]
    },
    {
     "name": "stderr",
     "output_type": "stream",
     "text": [
      "C:\\ProgramData\\Anaconda3\\lib\\site-packages\\IPython\\core\\magics\\pylab.py:160: UserWarning: pylab import has clobbered these variables: ['time']\n",
      "`%matplotlib` prevents importing * from pylab and numpy\n",
      "  \"\\n`%matplotlib` prevents importing * from pylab and numpy\"\n"
     ]
    }
   ],
   "source": [
    "%pylab auto\n",
    "from time import time"
   ]
  },
  {
   "cell_type": "code",
   "execution_count": 51,
   "id": "25421ab0",
   "metadata": {},
   "outputs": [
    {
     "ename": "ZWO_IOError",
     "evalue": "Camera closed",
     "output_type": "error",
     "traceback": [
      "\u001b[1;31m---------------------------------------------------------------------------\u001b[0m",
      "\u001b[1;31mZWO_IOError\u001b[0m                               Traceback (most recent call last)",
      "\u001b[1;32m<ipython-input-51-0ce8be2a63dd>\u001b[0m in \u001b[0;36m<module>\u001b[1;34m\u001b[0m\n\u001b[0;32m      1\u001b[0m \u001b[0mfigure\u001b[0m\u001b[1;33m(\u001b[0m\u001b[1;36m2\u001b[0m\u001b[1;33m)\u001b[0m\u001b[1;33m\u001b[0m\u001b[1;33m\u001b[0m\u001b[0m\n\u001b[1;32m----> 2\u001b[1;33m \u001b[0mcamera\u001b[0m\u001b[1;33m.\u001b[0m\u001b[0mset_roi\u001b[0m\u001b[1;33m(\u001b[0m\u001b[1;33m)\u001b[0m\u001b[1;33m\u001b[0m\u001b[1;33m\u001b[0m\u001b[0m\n\u001b[0m\u001b[0;32m      3\u001b[0m \u001b[0mcamera\u001b[0m\u001b[1;33m.\u001b[0m\u001b[0mset_control_value\u001b[0m\u001b[1;33m(\u001b[0m\u001b[0masi\u001b[0m\u001b[1;33m.\u001b[0m\u001b[0mASI_EXPOSURE\u001b[0m\u001b[1;33m,\u001b[0m \u001b[1;36m1000\u001b[0m\u001b[1;33m)\u001b[0m\u001b[1;33m\u001b[0m\u001b[1;33m\u001b[0m\u001b[0m\n\u001b[0;32m      4\u001b[0m \u001b[0mcamera\u001b[0m\u001b[1;33m.\u001b[0m\u001b[0mset_control_value\u001b[0m\u001b[1;33m(\u001b[0m\u001b[0masi\u001b[0m\u001b[1;33m.\u001b[0m\u001b[0mASI_GAIN\u001b[0m\u001b[1;33m,\u001b[0m \u001b[1;36m300\u001b[0m\u001b[1;33m)\u001b[0m\u001b[1;33m\u001b[0m\u001b[1;33m\u001b[0m\u001b[0m\n\u001b[0;32m      5\u001b[0m \u001b[0mtest\u001b[0m\u001b[1;33m=\u001b[0m\u001b[0mcamera\u001b[0m\u001b[1;33m.\u001b[0m\u001b[0mcapture\u001b[0m\u001b[1;33m(\u001b[0m\u001b[1;33m)\u001b[0m\u001b[1;33m\u001b[0m\u001b[1;33m\u001b[0m\u001b[0m\n",
      "\u001b[1;32mC:\\ProgramData\\Anaconda3\\lib\\site-packages\\zwoasi\\__init__.py\u001b[0m in \u001b[0;36mset_roi\u001b[1;34m(self, start_x, start_y, width, height, bins, image_type)\u001b[0m\n\u001b[0;32m    491\u001b[0m         vertically centred.\"\"\"\n\u001b[0;32m    492\u001b[0m         \u001b[0mcam_info\u001b[0m \u001b[1;33m=\u001b[0m \u001b[0mself\u001b[0m\u001b[1;33m.\u001b[0m\u001b[0mget_camera_property\u001b[0m\u001b[1;33m(\u001b[0m\u001b[1;33m)\u001b[0m\u001b[1;33m\u001b[0m\u001b[1;33m\u001b[0m\u001b[0m\n\u001b[1;32m--> 493\u001b[1;33m         \u001b[0mwhbi\u001b[0m \u001b[1;33m=\u001b[0m \u001b[0mself\u001b[0m\u001b[1;33m.\u001b[0m\u001b[0mget_roi_format\u001b[0m\u001b[1;33m(\u001b[0m\u001b[1;33m)\u001b[0m\u001b[1;33m\u001b[0m\u001b[1;33m\u001b[0m\u001b[0m\n\u001b[0m\u001b[0;32m    494\u001b[0m \u001b[1;33m\u001b[0m\u001b[0m\n\u001b[0;32m    495\u001b[0m         \u001b[1;32mif\u001b[0m \u001b[0mbins\u001b[0m \u001b[1;32mis\u001b[0m \u001b[1;32mNone\u001b[0m\u001b[1;33m:\u001b[0m\u001b[1;33m\u001b[0m\u001b[1;33m\u001b[0m\u001b[0m\n",
      "\u001b[1;32mC:\\ProgramData\\Anaconda3\\lib\\site-packages\\zwoasi\\__init__.py\u001b[0m in \u001b[0;36mget_roi_format\u001b[1;34m(self)\u001b[0m\n\u001b[0;32m    427\u001b[0m \u001b[1;33m\u001b[0m\u001b[0m\n\u001b[0;32m    428\u001b[0m     \u001b[1;32mdef\u001b[0m \u001b[0mget_roi_format\u001b[0m\u001b[1;33m(\u001b[0m\u001b[0mself\u001b[0m\u001b[1;33m)\u001b[0m\u001b[1;33m:\u001b[0m\u001b[1;33m\u001b[0m\u001b[1;33m\u001b[0m\u001b[0m\n\u001b[1;32m--> 429\u001b[1;33m         \u001b[1;32mreturn\u001b[0m \u001b[0m_get_roi_format\u001b[0m\u001b[1;33m(\u001b[0m\u001b[0mself\u001b[0m\u001b[1;33m.\u001b[0m\u001b[0mid\u001b[0m\u001b[1;33m)\u001b[0m\u001b[1;33m\u001b[0m\u001b[1;33m\u001b[0m\u001b[0m\n\u001b[0m\u001b[0;32m    430\u001b[0m \u001b[1;33m\u001b[0m\u001b[0m\n\u001b[0;32m    431\u001b[0m     \u001b[1;32mdef\u001b[0m \u001b[0mset_roi_format\u001b[0m\u001b[1;33m(\u001b[0m\u001b[0mself\u001b[0m\u001b[1;33m,\u001b[0m \u001b[0mwidth\u001b[0m\u001b[1;33m,\u001b[0m \u001b[0mheight\u001b[0m\u001b[1;33m,\u001b[0m \u001b[0mbins\u001b[0m\u001b[1;33m,\u001b[0m \u001b[0mimage_type\u001b[0m\u001b[1;33m)\u001b[0m\u001b[1;33m:\u001b[0m\u001b[1;33m\u001b[0m\u001b[1;33m\u001b[0m\u001b[0m\n",
      "\u001b[1;32mC:\\ProgramData\\Anaconda3\\lib\\site-packages\\zwoasi\\__init__.py\u001b[0m in \u001b[0;36m_get_roi_format\u001b[1;34m(id_)\u001b[0m\n\u001b[0;32m     94\u001b[0m     \u001b[0mr\u001b[0m \u001b[1;33m=\u001b[0m \u001b[0mzwolib\u001b[0m\u001b[1;33m.\u001b[0m\u001b[0mASIGetROIFormat\u001b[0m\u001b[1;33m(\u001b[0m\u001b[0mid_\u001b[0m\u001b[1;33m,\u001b[0m \u001b[0mroi_width\u001b[0m\u001b[1;33m,\u001b[0m \u001b[0mroi_height\u001b[0m\u001b[1;33m,\u001b[0m \u001b[0mbins\u001b[0m\u001b[1;33m,\u001b[0m \u001b[0mimage_type\u001b[0m\u001b[1;33m)\u001b[0m\u001b[1;33m\u001b[0m\u001b[1;33m\u001b[0m\u001b[0m\n\u001b[0;32m     95\u001b[0m     \u001b[1;32mif\u001b[0m \u001b[0mr\u001b[0m\u001b[1;33m:\u001b[0m\u001b[1;33m\u001b[0m\u001b[1;33m\u001b[0m\u001b[0m\n\u001b[1;32m---> 96\u001b[1;33m         \u001b[1;32mraise\u001b[0m \u001b[0mzwo_errors\u001b[0m\u001b[1;33m[\u001b[0m\u001b[0mr\u001b[0m\u001b[1;33m]\u001b[0m\u001b[1;33m\u001b[0m\u001b[1;33m\u001b[0m\u001b[0m\n\u001b[0m\u001b[0;32m     97\u001b[0m     \u001b[1;32mreturn\u001b[0m \u001b[1;33m[\u001b[0m\u001b[0mroi_width\u001b[0m\u001b[1;33m.\u001b[0m\u001b[0mvalue\u001b[0m\u001b[1;33m,\u001b[0m \u001b[0mroi_height\u001b[0m\u001b[1;33m.\u001b[0m\u001b[0mvalue\u001b[0m\u001b[1;33m,\u001b[0m \u001b[0mbins\u001b[0m\u001b[1;33m.\u001b[0m\u001b[0mvalue\u001b[0m\u001b[1;33m,\u001b[0m \u001b[0mimage_type\u001b[0m\u001b[1;33m.\u001b[0m\u001b[0mvalue\u001b[0m\u001b[1;33m]\u001b[0m\u001b[1;33m\u001b[0m\u001b[1;33m\u001b[0m\u001b[0m\n\u001b[0;32m     98\u001b[0m \u001b[1;33m\u001b[0m\u001b[0m\n",
      "\u001b[1;32mC:\\ProgramData\\Anaconda3\\lib\\site-packages\\IPython\\core\\interactiveshell.py\u001b[0m in \u001b[0;36mrun_code\u001b[1;34m(self, code_obj, result, async_)\u001b[0m\n\u001b[0;32m   3324\u001b[0m                     \u001b[1;32mawait\u001b[0m \u001b[0meval\u001b[0m\u001b[1;33m(\u001b[0m\u001b[0mcode_obj\u001b[0m\u001b[1;33m,\u001b[0m \u001b[0mself\u001b[0m\u001b[1;33m.\u001b[0m\u001b[0muser_global_ns\u001b[0m\u001b[1;33m,\u001b[0m \u001b[0mself\u001b[0m\u001b[1;33m.\u001b[0m\u001b[0muser_ns\u001b[0m\u001b[1;33m)\u001b[0m\u001b[1;33m\u001b[0m\u001b[1;33m\u001b[0m\u001b[0m\n\u001b[0;32m   3325\u001b[0m                 \u001b[1;32melse\u001b[0m\u001b[1;33m:\u001b[0m\u001b[1;33m\u001b[0m\u001b[1;33m\u001b[0m\u001b[0m\n\u001b[1;32m-> 3326\u001b[1;33m                     \u001b[0mexec\u001b[0m\u001b[1;33m(\u001b[0m\u001b[0mcode_obj\u001b[0m\u001b[1;33m,\u001b[0m \u001b[0mself\u001b[0m\u001b[1;33m.\u001b[0m\u001b[0muser_global_ns\u001b[0m\u001b[1;33m,\u001b[0m \u001b[0mself\u001b[0m\u001b[1;33m.\u001b[0m\u001b[0muser_ns\u001b[0m\u001b[1;33m)\u001b[0m\u001b[1;33m\u001b[0m\u001b[1;33m\u001b[0m\u001b[0m\n\u001b[0m\u001b[0;32m   3327\u001b[0m             \u001b[1;32mfinally\u001b[0m\u001b[1;33m:\u001b[0m\u001b[1;33m\u001b[0m\u001b[1;33m\u001b[0m\u001b[0m\n\u001b[0;32m   3328\u001b[0m                 \u001b[1;31m# Reset our crash handler in place\u001b[0m\u001b[1;33m\u001b[0m\u001b[1;33m\u001b[0m\u001b[1;33m\u001b[0m\u001b[0m\n",
      "\u001b[1;32m<ipython-input-50-e1bbbed9b704>\u001b[0m in \u001b[0;36m<module>\u001b[1;34m\u001b[0m\n\u001b[1;32m----> 1\u001b[1;33m \u001b[0mx\u001b[0m\u001b[1;33m,\u001b[0m\u001b[0my\u001b[0m\u001b[1;33m,\u001b[0m\u001b[0mimgs\u001b[0m\u001b[1;33m=\u001b[0m\u001b[0mvidcapture\u001b[0m\u001b[1;33m(\u001b[0m\u001b[0mcamera\u001b[0m\u001b[1;33m=\u001b[0m\u001b[0mcamera\u001b[0m\u001b[1;33m,\u001b[0m\u001b[0mexposure\u001b[0m\u001b[1;33m=\u001b[0m\u001b[1;36m500\u001b[0m\u001b[1;33m,\u001b[0m\u001b[0mnframes\u001b[0m\u001b[1;33m=\u001b[0m\u001b[1;36m5000\u001b[0m\u001b[1;33m,\u001b[0m\u001b[0mn8s\u001b[0m\u001b[1;33m=\u001b[0m\u001b[1;36m8\u001b[0m\u001b[1;33m)\u001b[0m\u001b[1;33m\u001b[0m\u001b[1;33m\u001b[0m\u001b[0m\n\u001b[0m",
      "\u001b[1;32m<ipython-input-29-884afd06bc2f>\u001b[0m in \u001b[0;36mvidcapture\u001b[1;34m(camera, nframes, exposure, gain, n8s, maxpix)\u001b[0m\n\u001b[0;32m      1\u001b[0m \u001b[1;32mdef\u001b[0m \u001b[0mvidcapture\u001b[0m\u001b[1;33m(\u001b[0m\u001b[0mcamera\u001b[0m\u001b[1;33m=\u001b[0m\u001b[0mcamera\u001b[0m\u001b[1;33m,\u001b[0m\u001b[0mnframes\u001b[0m\u001b[1;33m=\u001b[0m\u001b[1;36m100\u001b[0m\u001b[1;33m,\u001b[0m\u001b[0mexposure\u001b[0m\u001b[1;33m=\u001b[0m\u001b[1;36m3000\u001b[0m\u001b[1;33m,\u001b[0m\u001b[0mgain\u001b[0m\u001b[1;33m=\u001b[0m\u001b[1;36m500\u001b[0m\u001b[1;33m,\u001b[0m\u001b[0mn8s\u001b[0m\u001b[1;33m=\u001b[0m\u001b[1;36m8\u001b[0m\u001b[1;33m,\u001b[0m\u001b[0mmaxpix\u001b[0m\u001b[1;33m=\u001b[0m\u001b[1;33m[\u001b[0m\u001b[1;36m500\u001b[0m\u001b[1;33m,\u001b[0m\u001b[1;36m500\u001b[0m\u001b[1;33m]\u001b[0m\u001b[1;33m)\u001b[0m\u001b[1;33m:\u001b[0m\u001b[1;33m\u001b[0m\u001b[1;33m\u001b[0m\u001b[0m\n\u001b[1;32m----> 2\u001b[1;33m     \u001b[0mcamera\u001b[0m\u001b[1;33m.\u001b[0m\u001b[0mset_control_value\u001b[0m\u001b[1;33m(\u001b[0m\u001b[0masi\u001b[0m\u001b[1;33m.\u001b[0m\u001b[0mASI_EXPOSURE\u001b[0m\u001b[1;33m,\u001b[0m \u001b[0mexposure\u001b[0m\u001b[1;33m)\u001b[0m\u001b[1;33m\u001b[0m\u001b[1;33m\u001b[0m\u001b[0m\n\u001b[0m\u001b[0;32m      3\u001b[0m     \u001b[0mcamera\u001b[0m\u001b[1;33m.\u001b[0m\u001b[0mset_control_value\u001b[0m\u001b[1;33m(\u001b[0m\u001b[0masi\u001b[0m\u001b[1;33m.\u001b[0m\u001b[0mASI_GAIN\u001b[0m\u001b[1;33m,\u001b[0m \u001b[0mgain\u001b[0m\u001b[1;33m)\u001b[0m\u001b[1;33m\u001b[0m\u001b[1;33m\u001b[0m\u001b[0m\n\u001b[0;32m      4\u001b[0m     \u001b[0moffsetxy\u001b[0m \u001b[1;33m=\u001b[0m \u001b[0mfind_beacon_and_set_roi_max\u001b[0m\u001b[1;33m(\u001b[0m\u001b[0mcamera\u001b[0m\u001b[1;33m=\u001b[0m\u001b[0mcamera\u001b[0m\u001b[1;33m,\u001b[0m\u001b[0mexposure\u001b[0m\u001b[1;33m=\u001b[0m\u001b[1;36m10000\u001b[0m\u001b[1;33m,\u001b[0m\u001b[0mmaxpix\u001b[0m\u001b[1;33m=\u001b[0m\u001b[0mmaxpix\u001b[0m\u001b[1;33m)\u001b[0m\u001b[1;33m\u001b[0m\u001b[1;33m\u001b[0m\u001b[0m\n\u001b[0;32m      5\u001b[0m     \u001b[0mcamera\u001b[0m\u001b[1;33m.\u001b[0m\u001b[0mset_control_value\u001b[0m\u001b[1;33m(\u001b[0m\u001b[0masi\u001b[0m\u001b[1;33m.\u001b[0m\u001b[0mASI_EXPOSURE\u001b[0m\u001b[1;33m,\u001b[0m \u001b[0mexposure\u001b[0m\u001b[1;33m)\u001b[0m\u001b[1;33m\u001b[0m\u001b[1;33m\u001b[0m\u001b[0m\n",
      "\u001b[1;32mC:\\ProgramData\\Anaconda3\\lib\\site-packages\\zwoasi\\__init__.py\u001b[0m in \u001b[0;36mset_control_value\u001b[1;34m(self, control_type, value, auto)\u001b[0m\n\u001b[0;32m    525\u001b[0m \u001b[1;33m\u001b[0m\u001b[0m\n\u001b[0;32m    526\u001b[0m     \u001b[1;32mdef\u001b[0m \u001b[0mset_control_value\u001b[0m\u001b[1;33m(\u001b[0m\u001b[0mself\u001b[0m\u001b[1;33m,\u001b[0m \u001b[0mcontrol_type\u001b[0m\u001b[1;33m,\u001b[0m \u001b[0mvalue\u001b[0m\u001b[1;33m,\u001b[0m \u001b[0mauto\u001b[0m\u001b[1;33m=\u001b[0m\u001b[1;32mFalse\u001b[0m\u001b[1;33m)\u001b[0m\u001b[1;33m:\u001b[0m\u001b[1;33m\u001b[0m\u001b[1;33m\u001b[0m\u001b[0m\n\u001b[1;32m--> 527\u001b[1;33m         \u001b[0m_set_control_value\u001b[0m\u001b[1;33m(\u001b[0m\u001b[0mself\u001b[0m\u001b[1;33m.\u001b[0m\u001b[0mid\u001b[0m\u001b[1;33m,\u001b[0m \u001b[0mcontrol_type\u001b[0m\u001b[1;33m,\u001b[0m \u001b[0mvalue\u001b[0m\u001b[1;33m,\u001b[0m \u001b[0mauto\u001b[0m\u001b[1;33m)\u001b[0m\u001b[1;33m\u001b[0m\u001b[1;33m\u001b[0m\u001b[0m\n\u001b[0m\u001b[0;32m    528\u001b[0m \u001b[1;33m\u001b[0m\u001b[0m\n\u001b[0;32m    529\u001b[0m     \u001b[1;32mdef\u001b[0m \u001b[0mget_bin\u001b[0m\u001b[1;33m(\u001b[0m\u001b[0mself\u001b[0m\u001b[1;33m)\u001b[0m\u001b[1;33m:\u001b[0m\u001b[1;33m\u001b[0m\u001b[1;33m\u001b[0m\u001b[0m\n",
      "\u001b[1;32mC:\\ProgramData\\Anaconda3\\lib\\site-packages\\zwoasi\\__init__.py\u001b[0m in \u001b[0;36m_set_control_value\u001b[1;34m(id_, control_type, value, auto)\u001b[0m\n\u001b[0;32m     83\u001b[0m     \u001b[0mr\u001b[0m \u001b[1;33m=\u001b[0m \u001b[0mzwolib\u001b[0m\u001b[1;33m.\u001b[0m\u001b[0mASISetControlValue\u001b[0m\u001b[1;33m(\u001b[0m\u001b[0mid_\u001b[0m\u001b[1;33m,\u001b[0m \u001b[0mcontrol_type\u001b[0m\u001b[1;33m,\u001b[0m \u001b[0mvalue\u001b[0m\u001b[1;33m,\u001b[0m \u001b[0mauto\u001b[0m\u001b[1;33m)\u001b[0m\u001b[1;33m\u001b[0m\u001b[1;33m\u001b[0m\u001b[0m\n\u001b[0;32m     84\u001b[0m     \u001b[1;32mif\u001b[0m \u001b[0mr\u001b[0m\u001b[1;33m:\u001b[0m\u001b[1;33m\u001b[0m\u001b[1;33m\u001b[0m\u001b[0m\n\u001b[1;32m---> 85\u001b[1;33m         \u001b[1;32mraise\u001b[0m \u001b[0mzwo_errors\u001b[0m\u001b[1;33m[\u001b[0m\u001b[0mr\u001b[0m\u001b[1;33m]\u001b[0m\u001b[1;33m\u001b[0m\u001b[1;33m\u001b[0m\u001b[0m\n\u001b[0m\u001b[0;32m     86\u001b[0m     \u001b[1;32mreturn\u001b[0m\u001b[1;33m\u001b[0m\u001b[1;33m\u001b[0m\u001b[0m\n\u001b[0;32m     87\u001b[0m \u001b[1;33m\u001b[0m\u001b[0m\n",
      "\u001b[1;32mC:\\ProgramData\\Anaconda3\\lib\\site-packages\\IPython\\core\\interactiveshell.py\u001b[0m in \u001b[0;36mrun_code\u001b[1;34m(self, code_obj, result, async_)\u001b[0m\n\u001b[0;32m   3324\u001b[0m                     \u001b[1;32mawait\u001b[0m \u001b[0meval\u001b[0m\u001b[1;33m(\u001b[0m\u001b[0mcode_obj\u001b[0m\u001b[1;33m,\u001b[0m \u001b[0mself\u001b[0m\u001b[1;33m.\u001b[0m\u001b[0muser_global_ns\u001b[0m\u001b[1;33m,\u001b[0m \u001b[0mself\u001b[0m\u001b[1;33m.\u001b[0m\u001b[0muser_ns\u001b[0m\u001b[1;33m)\u001b[0m\u001b[1;33m\u001b[0m\u001b[1;33m\u001b[0m\u001b[0m\n\u001b[0;32m   3325\u001b[0m                 \u001b[1;32melse\u001b[0m\u001b[1;33m:\u001b[0m\u001b[1;33m\u001b[0m\u001b[1;33m\u001b[0m\u001b[0m\n\u001b[1;32m-> 3326\u001b[1;33m                     \u001b[0mexec\u001b[0m\u001b[1;33m(\u001b[0m\u001b[0mcode_obj\u001b[0m\u001b[1;33m,\u001b[0m \u001b[0mself\u001b[0m\u001b[1;33m.\u001b[0m\u001b[0muser_global_ns\u001b[0m\u001b[1;33m,\u001b[0m \u001b[0mself\u001b[0m\u001b[1;33m.\u001b[0m\u001b[0muser_ns\u001b[0m\u001b[1;33m)\u001b[0m\u001b[1;33m\u001b[0m\u001b[1;33m\u001b[0m\u001b[0m\n\u001b[0m\u001b[0;32m   3327\u001b[0m             \u001b[1;32mfinally\u001b[0m\u001b[1;33m:\u001b[0m\u001b[1;33m\u001b[0m\u001b[1;33m\u001b[0m\u001b[0m\n\u001b[0;32m   3328\u001b[0m                 \u001b[1;31m# Reset our crash handler in place\u001b[0m\u001b[1;33m\u001b[0m\u001b[1;33m\u001b[0m\u001b[1;33m\u001b[0m\u001b[0m\n",
      "\u001b[1;32m<ipython-input-49-e1bbbed9b704>\u001b[0m in \u001b[0;36m<module>\u001b[1;34m\u001b[0m\n\u001b[1;32m----> 1\u001b[1;33m \u001b[0mx\u001b[0m\u001b[1;33m,\u001b[0m\u001b[0my\u001b[0m\u001b[1;33m,\u001b[0m\u001b[0mimgs\u001b[0m\u001b[1;33m=\u001b[0m\u001b[0mvidcapture\u001b[0m\u001b[1;33m(\u001b[0m\u001b[0mcamera\u001b[0m\u001b[1;33m=\u001b[0m\u001b[0mcamera\u001b[0m\u001b[1;33m,\u001b[0m\u001b[0mexposure\u001b[0m\u001b[1;33m=\u001b[0m\u001b[1;36m500\u001b[0m\u001b[1;33m,\u001b[0m\u001b[0mnframes\u001b[0m\u001b[1;33m=\u001b[0m\u001b[1;36m5000\u001b[0m\u001b[1;33m,\u001b[0m\u001b[0mn8s\u001b[0m\u001b[1;33m=\u001b[0m\u001b[1;36m8\u001b[0m\u001b[1;33m)\u001b[0m\u001b[1;33m\u001b[0m\u001b[1;33m\u001b[0m\u001b[0m\n\u001b[0m",
      "\u001b[1;32m<ipython-input-29-884afd06bc2f>\u001b[0m in \u001b[0;36mvidcapture\u001b[1;34m(camera, nframes, exposure, gain, n8s, maxpix)\u001b[0m\n\u001b[0;32m      2\u001b[0m     \u001b[0mcamera\u001b[0m\u001b[1;33m.\u001b[0m\u001b[0mset_control_value\u001b[0m\u001b[1;33m(\u001b[0m\u001b[0masi\u001b[0m\u001b[1;33m.\u001b[0m\u001b[0mASI_EXPOSURE\u001b[0m\u001b[1;33m,\u001b[0m \u001b[0mexposure\u001b[0m\u001b[1;33m)\u001b[0m\u001b[1;33m\u001b[0m\u001b[1;33m\u001b[0m\u001b[0m\n\u001b[0;32m      3\u001b[0m     \u001b[0mcamera\u001b[0m\u001b[1;33m.\u001b[0m\u001b[0mset_control_value\u001b[0m\u001b[1;33m(\u001b[0m\u001b[0masi\u001b[0m\u001b[1;33m.\u001b[0m\u001b[0mASI_GAIN\u001b[0m\u001b[1;33m,\u001b[0m \u001b[0mgain\u001b[0m\u001b[1;33m)\u001b[0m\u001b[1;33m\u001b[0m\u001b[1;33m\u001b[0m\u001b[0m\n\u001b[1;32m----> 4\u001b[1;33m     \u001b[0moffsetxy\u001b[0m \u001b[1;33m=\u001b[0m \u001b[0mfind_beacon_and_set_roi_max\u001b[0m\u001b[1;33m(\u001b[0m\u001b[0mcamera\u001b[0m\u001b[1;33m=\u001b[0m\u001b[0mcamera\u001b[0m\u001b[1;33m,\u001b[0m\u001b[0mexposure\u001b[0m\u001b[1;33m=\u001b[0m\u001b[1;36m10000\u001b[0m\u001b[1;33m,\u001b[0m\u001b[0mmaxpix\u001b[0m\u001b[1;33m=\u001b[0m\u001b[0mmaxpix\u001b[0m\u001b[1;33m)\u001b[0m\u001b[1;33m\u001b[0m\u001b[1;33m\u001b[0m\u001b[0m\n\u001b[0m\u001b[0;32m      5\u001b[0m     \u001b[0mcamera\u001b[0m\u001b[1;33m.\u001b[0m\u001b[0mset_control_value\u001b[0m\u001b[1;33m(\u001b[0m\u001b[0masi\u001b[0m\u001b[1;33m.\u001b[0m\u001b[0mASI_EXPOSURE\u001b[0m\u001b[1;33m,\u001b[0m \u001b[0mexposure\u001b[0m\u001b[1;33m)\u001b[0m\u001b[1;33m\u001b[0m\u001b[1;33m\u001b[0m\u001b[0m\n\u001b[0;32m      6\u001b[0m     \u001b[0mfigure\u001b[0m\u001b[1;33m(\u001b[0m\u001b[1;33m)\u001b[0m\u001b[1;33m\u001b[0m\u001b[1;33m\u001b[0m\u001b[0m\n",
      "\u001b[1;32m<ipython-input-28-50004da43542>\u001b[0m in \u001b[0;36mfind_beacon_and_set_roi_max\u001b[1;34m(camera, n8s, exposure, maxpix)\u001b[0m\n\u001b[0;32m     10\u001b[0m     \u001b[0mstart_y\u001b[0m \u001b[1;33m=\u001b[0m \u001b[0mint\u001b[0m\u001b[1;33m(\u001b[0m\u001b[0mmaxpix\u001b[0m\u001b[1;33m[\u001b[0m\u001b[1;36m0\u001b[0m\u001b[1;33m]\u001b[0m\u001b[1;33m)\u001b[0m \u001b[1;33m-\u001b[0m \u001b[0mn8s\u001b[0m\u001b[1;33m*\u001b[0m\u001b[1;36m8\u001b[0m\u001b[1;33m\u001b[0m\u001b[1;33m\u001b[0m\u001b[0m\n\u001b[0;32m     11\u001b[0m     \u001b[0mprint\u001b[0m\u001b[1;33m(\u001b[0m\u001b[0mmaxpix\u001b[0m\u001b[1;33m)\u001b[0m\u001b[1;33m\u001b[0m\u001b[1;33m\u001b[0m\u001b[0m\n\u001b[1;32m---> 12\u001b[1;33m     \u001b[0mcamera\u001b[0m\u001b[1;33m.\u001b[0m\u001b[0mset_roi\u001b[0m\u001b[1;33m(\u001b[0m\u001b[0mstart_x\u001b[0m\u001b[1;33m=\u001b[0m\u001b[0mstart_x\u001b[0m\u001b[1;33m,\u001b[0m\u001b[0mstart_y\u001b[0m\u001b[1;33m=\u001b[0m\u001b[0mstart_y\u001b[0m\u001b[1;33m,\u001b[0m\u001b[0mwidth\u001b[0m\u001b[1;33m=\u001b[0m\u001b[1;36m2\u001b[0m\u001b[1;33m*\u001b[0m\u001b[0mn8s\u001b[0m\u001b[1;33m*\u001b[0m\u001b[1;36m8\u001b[0m\u001b[1;33m,\u001b[0m\u001b[0mheight\u001b[0m\u001b[1;33m=\u001b[0m\u001b[1;36m2\u001b[0m\u001b[1;33m*\u001b[0m\u001b[0mn8s\u001b[0m\u001b[1;33m*\u001b[0m\u001b[1;36m8\u001b[0m\u001b[1;33m)\u001b[0m\u001b[1;33m\u001b[0m\u001b[1;33m\u001b[0m\u001b[0m\n\u001b[0m\u001b[0;32m     13\u001b[0m     \u001b[1;31m#test =  camera.capture()\u001b[0m\u001b[1;33m\u001b[0m\u001b[1;33m\u001b[0m\u001b[1;33m\u001b[0m\u001b[0m\n\u001b[0;32m     14\u001b[0m     \u001b[1;31m#figure(1)\u001b[0m\u001b[1;33m\u001b[0m\u001b[1;33m\u001b[0m\u001b[1;33m\u001b[0m\u001b[0m\n",
      "\u001b[1;32mC:\\ProgramData\\Anaconda3\\lib\\site-packages\\zwoasi\\__init__.py\u001b[0m in \u001b[0;36mset_roi\u001b[1;34m(self, start_x, start_y, width, height, bins, image_type)\u001b[0m\n\u001b[0;32m    491\u001b[0m         vertically centred.\"\"\"\n\u001b[0;32m    492\u001b[0m         \u001b[0mcam_info\u001b[0m \u001b[1;33m=\u001b[0m \u001b[0mself\u001b[0m\u001b[1;33m.\u001b[0m\u001b[0mget_camera_property\u001b[0m\u001b[1;33m(\u001b[0m\u001b[1;33m)\u001b[0m\u001b[1;33m\u001b[0m\u001b[1;33m\u001b[0m\u001b[0m\n\u001b[1;32m--> 493\u001b[1;33m         \u001b[0mwhbi\u001b[0m \u001b[1;33m=\u001b[0m \u001b[0mself\u001b[0m\u001b[1;33m.\u001b[0m\u001b[0mget_roi_format\u001b[0m\u001b[1;33m(\u001b[0m\u001b[1;33m)\u001b[0m\u001b[1;33m\u001b[0m\u001b[1;33m\u001b[0m\u001b[0m\n\u001b[0m\u001b[0;32m    494\u001b[0m \u001b[1;33m\u001b[0m\u001b[0m\n\u001b[0;32m    495\u001b[0m         \u001b[1;32mif\u001b[0m \u001b[0mbins\u001b[0m \u001b[1;32mis\u001b[0m \u001b[1;32mNone\u001b[0m\u001b[1;33m:\u001b[0m\u001b[1;33m\u001b[0m\u001b[1;33m\u001b[0m\u001b[0m\n",
      "\u001b[1;32mC:\\ProgramData\\Anaconda3\\lib\\site-packages\\zwoasi\\__init__.py\u001b[0m in \u001b[0;36mget_roi_format\u001b[1;34m(self)\u001b[0m\n\u001b[0;32m    427\u001b[0m \u001b[1;33m\u001b[0m\u001b[0m\n\u001b[0;32m    428\u001b[0m     \u001b[1;32mdef\u001b[0m \u001b[0mget_roi_format\u001b[0m\u001b[1;33m(\u001b[0m\u001b[0mself\u001b[0m\u001b[1;33m)\u001b[0m\u001b[1;33m:\u001b[0m\u001b[1;33m\u001b[0m\u001b[1;33m\u001b[0m\u001b[0m\n\u001b[1;32m--> 429\u001b[1;33m         \u001b[1;32mreturn\u001b[0m \u001b[0m_get_roi_format\u001b[0m\u001b[1;33m(\u001b[0m\u001b[0mself\u001b[0m\u001b[1;33m.\u001b[0m\u001b[0mid\u001b[0m\u001b[1;33m)\u001b[0m\u001b[1;33m\u001b[0m\u001b[1;33m\u001b[0m\u001b[0m\n\u001b[0m\u001b[0;32m    430\u001b[0m \u001b[1;33m\u001b[0m\u001b[0m\n\u001b[0;32m    431\u001b[0m     \u001b[1;32mdef\u001b[0m \u001b[0mset_roi_format\u001b[0m\u001b[1;33m(\u001b[0m\u001b[0mself\u001b[0m\u001b[1;33m,\u001b[0m \u001b[0mwidth\u001b[0m\u001b[1;33m,\u001b[0m \u001b[0mheight\u001b[0m\u001b[1;33m,\u001b[0m \u001b[0mbins\u001b[0m\u001b[1;33m,\u001b[0m \u001b[0mimage_type\u001b[0m\u001b[1;33m)\u001b[0m\u001b[1;33m:\u001b[0m\u001b[1;33m\u001b[0m\u001b[1;33m\u001b[0m\u001b[0m\n",
      "\u001b[1;32mC:\\ProgramData\\Anaconda3\\lib\\site-packages\\zwoasi\\__init__.py\u001b[0m in \u001b[0;36m_get_roi_format\u001b[1;34m(id_)\u001b[0m\n\u001b[0;32m     94\u001b[0m     \u001b[0mr\u001b[0m \u001b[1;33m=\u001b[0m \u001b[0mzwolib\u001b[0m\u001b[1;33m.\u001b[0m\u001b[0mASIGetROIFormat\u001b[0m\u001b[1;33m(\u001b[0m\u001b[0mid_\u001b[0m\u001b[1;33m,\u001b[0m \u001b[0mroi_width\u001b[0m\u001b[1;33m,\u001b[0m \u001b[0mroi_height\u001b[0m\u001b[1;33m,\u001b[0m \u001b[0mbins\u001b[0m\u001b[1;33m,\u001b[0m \u001b[0mimage_type\u001b[0m\u001b[1;33m)\u001b[0m\u001b[1;33m\u001b[0m\u001b[1;33m\u001b[0m\u001b[0m\n\u001b[0;32m     95\u001b[0m     \u001b[1;32mif\u001b[0m \u001b[0mr\u001b[0m\u001b[1;33m:\u001b[0m\u001b[1;33m\u001b[0m\u001b[1;33m\u001b[0m\u001b[0m\n\u001b[1;32m---> 96\u001b[1;33m         \u001b[1;32mraise\u001b[0m \u001b[0mzwo_errors\u001b[0m\u001b[1;33m[\u001b[0m\u001b[0mr\u001b[0m\u001b[1;33m]\u001b[0m\u001b[1;33m\u001b[0m\u001b[1;33m\u001b[0m\u001b[0m\n\u001b[0m\u001b[0;32m     97\u001b[0m     \u001b[1;32mreturn\u001b[0m \u001b[1;33m[\u001b[0m\u001b[0mroi_width\u001b[0m\u001b[1;33m.\u001b[0m\u001b[0mvalue\u001b[0m\u001b[1;33m,\u001b[0m \u001b[0mroi_height\u001b[0m\u001b[1;33m.\u001b[0m\u001b[0mvalue\u001b[0m\u001b[1;33m,\u001b[0m \u001b[0mbins\u001b[0m\u001b[1;33m.\u001b[0m\u001b[0mvalue\u001b[0m\u001b[1;33m,\u001b[0m \u001b[0mimage_type\u001b[0m\u001b[1;33m.\u001b[0m\u001b[0mvalue\u001b[0m\u001b[1;33m]\u001b[0m\u001b[1;33m\u001b[0m\u001b[1;33m\u001b[0m\u001b[0m\n\u001b[0;32m     98\u001b[0m \u001b[1;33m\u001b[0m\u001b[0m\n",
      "\u001b[1;32mC:\\ProgramData\\Anaconda3\\lib\\site-packages\\IPython\\core\\interactiveshell.py\u001b[0m in \u001b[0;36mrun_code\u001b[1;34m(self, code_obj, result, async_)\u001b[0m\n\u001b[0;32m   3324\u001b[0m                     \u001b[1;32mawait\u001b[0m \u001b[0meval\u001b[0m\u001b[1;33m(\u001b[0m\u001b[0mcode_obj\u001b[0m\u001b[1;33m,\u001b[0m \u001b[0mself\u001b[0m\u001b[1;33m.\u001b[0m\u001b[0muser_global_ns\u001b[0m\u001b[1;33m,\u001b[0m \u001b[0mself\u001b[0m\u001b[1;33m.\u001b[0m\u001b[0muser_ns\u001b[0m\u001b[1;33m)\u001b[0m\u001b[1;33m\u001b[0m\u001b[1;33m\u001b[0m\u001b[0m\n\u001b[0;32m   3325\u001b[0m                 \u001b[1;32melse\u001b[0m\u001b[1;33m:\u001b[0m\u001b[1;33m\u001b[0m\u001b[1;33m\u001b[0m\u001b[0m\n\u001b[1;32m-> 3326\u001b[1;33m                     \u001b[0mexec\u001b[0m\u001b[1;33m(\u001b[0m\u001b[0mcode_obj\u001b[0m\u001b[1;33m,\u001b[0m \u001b[0mself\u001b[0m\u001b[1;33m.\u001b[0m\u001b[0muser_global_ns\u001b[0m\u001b[1;33m,\u001b[0m \u001b[0mself\u001b[0m\u001b[1;33m.\u001b[0m\u001b[0muser_ns\u001b[0m\u001b[1;33m)\u001b[0m\u001b[1;33m\u001b[0m\u001b[1;33m\u001b[0m\u001b[0m\n\u001b[0m\u001b[0;32m   3327\u001b[0m             \u001b[1;32mfinally\u001b[0m\u001b[1;33m:\u001b[0m\u001b[1;33m\u001b[0m\u001b[1;33m\u001b[0m\u001b[0m\n\u001b[0;32m   3328\u001b[0m                 \u001b[1;31m# Reset our crash handler in place\u001b[0m\u001b[1;33m\u001b[0m\u001b[1;33m\u001b[0m\u001b[1;33m\u001b[0m\u001b[0m\n",
      "\u001b[1;32m<ipython-input-41-55925923991b>\u001b[0m in \u001b[0;36m<module>\u001b[1;34m\u001b[0m\n\u001b[0;32m      2\u001b[0m \u001b[0mprint\u001b[0m\u001b[1;33m(\u001b[0m\u001b[0mnum_cameras\u001b[0m\u001b[1;33m,\u001b[0m\u001b[1;34m' Cameras'\u001b[0m\u001b[1;33m)\u001b[0m\u001b[1;33m\u001b[0m\u001b[1;33m\u001b[0m\u001b[0m\n\u001b[0;32m      3\u001b[0m \u001b[0mcamera\u001b[0m\u001b[1;33m=\u001b[0m\u001b[0masi\u001b[0m\u001b[1;33m.\u001b[0m\u001b[0mCamera\u001b[0m\u001b[1;33m(\u001b[0m\u001b[1;36m0\u001b[0m\u001b[1;33m)\u001b[0m\u001b[1;33m\u001b[0m\u001b[1;33m\u001b[0m\u001b[0m\n\u001b[1;32m----> 4\u001b[1;33m \u001b[0mcamera\u001b[0m\u001b[1;33m.\u001b[0m\u001b[0mset_control_value\u001b[0m\u001b[1;33m(\u001b[0m\u001b[0masi\u001b[0m\u001b[1;33m.\u001b[0m\u001b[0mASI_HIGH_SPEED_MODE\u001b[0m\u001b[1;33m,\u001b[0m \u001b[1;36m1\u001b[0m\u001b[1;33m)\u001b[0m\u001b[1;33m\u001b[0m\u001b[1;33m\u001b[0m\u001b[0m\n\u001b[0m\u001b[0;32m      5\u001b[0m \u001b[0mcamera\u001b[0m\u001b[1;33m.\u001b[0m\u001b[0mset_roi\u001b[0m\u001b[1;33m(\u001b[0m\u001b[1;33m)\u001b[0m\u001b[1;33m\u001b[0m\u001b[1;33m\u001b[0m\u001b[0m\n\u001b[0;32m      6\u001b[0m \u001b[1;32mif\u001b[0m \u001b[0mnum_cameras\u001b[0m\u001b[1;33m==\u001b[0m\u001b[1;36m2\u001b[0m\u001b[1;33m:\u001b[0m\u001b[1;33m\u001b[0m\u001b[1;33m\u001b[0m\u001b[0m\n",
      "\u001b[1;32mC:\\ProgramData\\Anaconda3\\lib\\site-packages\\zwoasi\\__init__.py\u001b[0m in \u001b[0;36mset_control_value\u001b[1;34m(self, control_type, value, auto)\u001b[0m\n\u001b[0;32m    525\u001b[0m \u001b[1;33m\u001b[0m\u001b[0m\n\u001b[0;32m    526\u001b[0m     \u001b[1;32mdef\u001b[0m \u001b[0mset_control_value\u001b[0m\u001b[1;33m(\u001b[0m\u001b[0mself\u001b[0m\u001b[1;33m,\u001b[0m \u001b[0mcontrol_type\u001b[0m\u001b[1;33m,\u001b[0m \u001b[0mvalue\u001b[0m\u001b[1;33m,\u001b[0m \u001b[0mauto\u001b[0m\u001b[1;33m=\u001b[0m\u001b[1;32mFalse\u001b[0m\u001b[1;33m)\u001b[0m\u001b[1;33m:\u001b[0m\u001b[1;33m\u001b[0m\u001b[1;33m\u001b[0m\u001b[0m\n\u001b[1;32m--> 527\u001b[1;33m         \u001b[0m_set_control_value\u001b[0m\u001b[1;33m(\u001b[0m\u001b[0mself\u001b[0m\u001b[1;33m.\u001b[0m\u001b[0mid\u001b[0m\u001b[1;33m,\u001b[0m \u001b[0mcontrol_type\u001b[0m\u001b[1;33m,\u001b[0m \u001b[0mvalue\u001b[0m\u001b[1;33m,\u001b[0m \u001b[0mauto\u001b[0m\u001b[1;33m)\u001b[0m\u001b[1;33m\u001b[0m\u001b[1;33m\u001b[0m\u001b[0m\n\u001b[0m\u001b[0;32m    528\u001b[0m \u001b[1;33m\u001b[0m\u001b[0m\n\u001b[0;32m    529\u001b[0m     \u001b[1;32mdef\u001b[0m \u001b[0mget_bin\u001b[0m\u001b[1;33m(\u001b[0m\u001b[0mself\u001b[0m\u001b[1;33m)\u001b[0m\u001b[1;33m:\u001b[0m\u001b[1;33m\u001b[0m\u001b[1;33m\u001b[0m\u001b[0m\n",
      "\u001b[1;32mC:\\ProgramData\\Anaconda3\\lib\\site-packages\\zwoasi\\__init__.py\u001b[0m in \u001b[0;36m_set_control_value\u001b[1;34m(id_, control_type, value, auto)\u001b[0m\n\u001b[0;32m     83\u001b[0m     \u001b[0mr\u001b[0m \u001b[1;33m=\u001b[0m \u001b[0mzwolib\u001b[0m\u001b[1;33m.\u001b[0m\u001b[0mASISetControlValue\u001b[0m\u001b[1;33m(\u001b[0m\u001b[0mid_\u001b[0m\u001b[1;33m,\u001b[0m \u001b[0mcontrol_type\u001b[0m\u001b[1;33m,\u001b[0m \u001b[0mvalue\u001b[0m\u001b[1;33m,\u001b[0m \u001b[0mauto\u001b[0m\u001b[1;33m)\u001b[0m\u001b[1;33m\u001b[0m\u001b[1;33m\u001b[0m\u001b[0m\n\u001b[0;32m     84\u001b[0m     \u001b[1;32mif\u001b[0m \u001b[0mr\u001b[0m\u001b[1;33m:\u001b[0m\u001b[1;33m\u001b[0m\u001b[1;33m\u001b[0m\u001b[0m\n\u001b[1;32m---> 85\u001b[1;33m         \u001b[1;32mraise\u001b[0m \u001b[0mzwo_errors\u001b[0m\u001b[1;33m[\u001b[0m\u001b[0mr\u001b[0m\u001b[1;33m]\u001b[0m\u001b[1;33m\u001b[0m\u001b[1;33m\u001b[0m\u001b[0m\n\u001b[0m\u001b[0;32m     86\u001b[0m     \u001b[1;32mreturn\u001b[0m\u001b[1;33m\u001b[0m\u001b[1;33m\u001b[0m\u001b[0m\n\u001b[0;32m     87\u001b[0m \u001b[1;33m\u001b[0m\u001b[0m\n",
      "\u001b[1;32mC:\\ProgramData\\Anaconda3\\lib\\site-packages\\IPython\\core\\interactiveshell.py\u001b[0m in \u001b[0;36mrun_code\u001b[1;34m(self, code_obj, result, async_)\u001b[0m\n\u001b[0;32m   3324\u001b[0m                     \u001b[1;32mawait\u001b[0m \u001b[0meval\u001b[0m\u001b[1;33m(\u001b[0m\u001b[0mcode_obj\u001b[0m\u001b[1;33m,\u001b[0m \u001b[0mself\u001b[0m\u001b[1;33m.\u001b[0m\u001b[0muser_global_ns\u001b[0m\u001b[1;33m,\u001b[0m \u001b[0mself\u001b[0m\u001b[1;33m.\u001b[0m\u001b[0muser_ns\u001b[0m\u001b[1;33m)\u001b[0m\u001b[1;33m\u001b[0m\u001b[1;33m\u001b[0m\u001b[0m\n\u001b[0;32m   3325\u001b[0m                 \u001b[1;32melse\u001b[0m\u001b[1;33m:\u001b[0m\u001b[1;33m\u001b[0m\u001b[1;33m\u001b[0m\u001b[0m\n\u001b[1;32m-> 3326\u001b[1;33m                     \u001b[0mexec\u001b[0m\u001b[1;33m(\u001b[0m\u001b[0mcode_obj\u001b[0m\u001b[1;33m,\u001b[0m \u001b[0mself\u001b[0m\u001b[1;33m.\u001b[0m\u001b[0muser_global_ns\u001b[0m\u001b[1;33m,\u001b[0m \u001b[0mself\u001b[0m\u001b[1;33m.\u001b[0m\u001b[0muser_ns\u001b[0m\u001b[1;33m)\u001b[0m\u001b[1;33m\u001b[0m\u001b[1;33m\u001b[0m\u001b[0m\n\u001b[0m\u001b[0;32m   3327\u001b[0m             \u001b[1;32mfinally\u001b[0m\u001b[1;33m:\u001b[0m\u001b[1;33m\u001b[0m\u001b[1;33m\u001b[0m\u001b[0m\n\u001b[0;32m   3328\u001b[0m                 \u001b[1;31m# Reset our crash handler in place\u001b[0m\u001b[1;33m\u001b[0m\u001b[1;33m\u001b[0m\u001b[1;33m\u001b[0m\u001b[0m\n",
      "\u001b[1;32m<ipython-input-37-55925923991b>\u001b[0m in \u001b[0;36m<module>\u001b[1;34m\u001b[0m\n\u001b[0;32m      2\u001b[0m \u001b[0mprint\u001b[0m\u001b[1;33m(\u001b[0m\u001b[0mnum_cameras\u001b[0m\u001b[1;33m,\u001b[0m\u001b[1;34m' Cameras'\u001b[0m\u001b[1;33m)\u001b[0m\u001b[1;33m\u001b[0m\u001b[1;33m\u001b[0m\u001b[0m\n\u001b[0;32m      3\u001b[0m \u001b[0mcamera\u001b[0m\u001b[1;33m=\u001b[0m\u001b[0masi\u001b[0m\u001b[1;33m.\u001b[0m\u001b[0mCamera\u001b[0m\u001b[1;33m(\u001b[0m\u001b[1;36m0\u001b[0m\u001b[1;33m)\u001b[0m\u001b[1;33m\u001b[0m\u001b[1;33m\u001b[0m\u001b[0m\n\u001b[1;32m----> 4\u001b[1;33m \u001b[0mcamera\u001b[0m\u001b[1;33m.\u001b[0m\u001b[0mset_control_value\u001b[0m\u001b[1;33m(\u001b[0m\u001b[0masi\u001b[0m\u001b[1;33m.\u001b[0m\u001b[0mASI_HIGH_SPEED_MODE\u001b[0m\u001b[1;33m,\u001b[0m \u001b[1;36m1\u001b[0m\u001b[1;33m)\u001b[0m\u001b[1;33m\u001b[0m\u001b[1;33m\u001b[0m\u001b[0m\n\u001b[0m\u001b[0;32m      5\u001b[0m \u001b[0mcamera\u001b[0m\u001b[1;33m.\u001b[0m\u001b[0mset_roi\u001b[0m\u001b[1;33m(\u001b[0m\u001b[1;33m)\u001b[0m\u001b[1;33m\u001b[0m\u001b[1;33m\u001b[0m\u001b[0m\n\u001b[0;32m      6\u001b[0m \u001b[1;32mif\u001b[0m \u001b[0mnum_cameras\u001b[0m\u001b[1;33m==\u001b[0m\u001b[1;36m2\u001b[0m\u001b[1;33m:\u001b[0m\u001b[1;33m\u001b[0m\u001b[1;33m\u001b[0m\u001b[0m\n",
      "\u001b[1;32mC:\\ProgramData\\Anaconda3\\lib\\site-packages\\zwoasi\\__init__.py\u001b[0m in \u001b[0;36mset_control_value\u001b[1;34m(self, control_type, value, auto)\u001b[0m\n\u001b[0;32m    525\u001b[0m \u001b[1;33m\u001b[0m\u001b[0m\n\u001b[0;32m    526\u001b[0m     \u001b[1;32mdef\u001b[0m \u001b[0mset_control_value\u001b[0m\u001b[1;33m(\u001b[0m\u001b[0mself\u001b[0m\u001b[1;33m,\u001b[0m \u001b[0mcontrol_type\u001b[0m\u001b[1;33m,\u001b[0m \u001b[0mvalue\u001b[0m\u001b[1;33m,\u001b[0m \u001b[0mauto\u001b[0m\u001b[1;33m=\u001b[0m\u001b[1;32mFalse\u001b[0m\u001b[1;33m)\u001b[0m\u001b[1;33m:\u001b[0m\u001b[1;33m\u001b[0m\u001b[1;33m\u001b[0m\u001b[0m\n\u001b[1;32m--> 527\u001b[1;33m         \u001b[0m_set_control_value\u001b[0m\u001b[1;33m(\u001b[0m\u001b[0mself\u001b[0m\u001b[1;33m.\u001b[0m\u001b[0mid\u001b[0m\u001b[1;33m,\u001b[0m \u001b[0mcontrol_type\u001b[0m\u001b[1;33m,\u001b[0m \u001b[0mvalue\u001b[0m\u001b[1;33m,\u001b[0m \u001b[0mauto\u001b[0m\u001b[1;33m)\u001b[0m\u001b[1;33m\u001b[0m\u001b[1;33m\u001b[0m\u001b[0m\n\u001b[0m\u001b[0;32m    528\u001b[0m \u001b[1;33m\u001b[0m\u001b[0m\n\u001b[0;32m    529\u001b[0m     \u001b[1;32mdef\u001b[0m \u001b[0mget_bin\u001b[0m\u001b[1;33m(\u001b[0m\u001b[0mself\u001b[0m\u001b[1;33m)\u001b[0m\u001b[1;33m:\u001b[0m\u001b[1;33m\u001b[0m\u001b[1;33m\u001b[0m\u001b[0m\n",
      "\u001b[1;32mC:\\ProgramData\\Anaconda3\\lib\\site-packages\\zwoasi\\__init__.py\u001b[0m in \u001b[0;36m_set_control_value\u001b[1;34m(id_, control_type, value, auto)\u001b[0m\n\u001b[0;32m     83\u001b[0m     \u001b[0mr\u001b[0m \u001b[1;33m=\u001b[0m \u001b[0mzwolib\u001b[0m\u001b[1;33m.\u001b[0m\u001b[0mASISetControlValue\u001b[0m\u001b[1;33m(\u001b[0m\u001b[0mid_\u001b[0m\u001b[1;33m,\u001b[0m \u001b[0mcontrol_type\u001b[0m\u001b[1;33m,\u001b[0m \u001b[0mvalue\u001b[0m\u001b[1;33m,\u001b[0m \u001b[0mauto\u001b[0m\u001b[1;33m)\u001b[0m\u001b[1;33m\u001b[0m\u001b[1;33m\u001b[0m\u001b[0m\n\u001b[0;32m     84\u001b[0m     \u001b[1;32mif\u001b[0m \u001b[0mr\u001b[0m\u001b[1;33m:\u001b[0m\u001b[1;33m\u001b[0m\u001b[1;33m\u001b[0m\u001b[0m\n\u001b[1;32m---> 85\u001b[1;33m         \u001b[1;32mraise\u001b[0m \u001b[0mzwo_errors\u001b[0m\u001b[1;33m[\u001b[0m\u001b[0mr\u001b[0m\u001b[1;33m]\u001b[0m\u001b[1;33m\u001b[0m\u001b[1;33m\u001b[0m\u001b[0m\n\u001b[0m\u001b[0;32m     86\u001b[0m     \u001b[1;32mreturn\u001b[0m\u001b[1;33m\u001b[0m\u001b[1;33m\u001b[0m\u001b[0m\n\u001b[0;32m     87\u001b[0m \u001b[1;33m\u001b[0m\u001b[0m\n",
      "\u001b[1;31mZWO_IOError\u001b[0m: Camera closed"
     ]
    }
   ],
   "source": [
    "figure(2)\n",
    "camera.set_roi()\n",
    "camera.set_control_value(asi.ASI_EXPOSURE, 1000)\n",
    "camera.set_control_value(asi.ASI_GAIN, 300)\n",
    "test=camera.capture()\n",
    "imshow(test)"
   ]
  },
  {
   "cell_type": "code",
   "execution_count": 13,
   "id": "141effd3",
   "metadata": {},
   "outputs": [
    {
     "ename": "NameError",
     "evalue": "name 'camera2' is not defined",
     "output_type": "error",
     "traceback": [
      "\u001b[1;31m---------------------------------------------------------------------------\u001b[0m",
      "\u001b[1;31mNameError\u001b[0m                                 Traceback (most recent call last)",
      "\u001b[1;32m<ipython-input-13-1c7e1781740d>\u001b[0m in \u001b[0;36m<module>\u001b[1;34m\u001b[0m\n\u001b[0;32m      1\u001b[0m \u001b[0mfigure\u001b[0m\u001b[1;33m(\u001b[0m\u001b[1;36m3\u001b[0m\u001b[1;33m)\u001b[0m\u001b[1;33m\u001b[0m\u001b[1;33m\u001b[0m\u001b[0m\n\u001b[1;32m----> 2\u001b[1;33m \u001b[0mcamera2\u001b[0m\u001b[1;33m.\u001b[0m\u001b[0mset_roi\u001b[0m\u001b[1;33m(\u001b[0m\u001b[1;33m)\u001b[0m\u001b[1;33m\u001b[0m\u001b[1;33m\u001b[0m\u001b[0m\n\u001b[0m\u001b[0;32m      3\u001b[0m \u001b[0mcamera2\u001b[0m\u001b[1;33m.\u001b[0m\u001b[0mset_control_value\u001b[0m\u001b[1;33m(\u001b[0m\u001b[0masi\u001b[0m\u001b[1;33m.\u001b[0m\u001b[0mASI_EXPOSURE\u001b[0m\u001b[1;33m,\u001b[0m \u001b[1;36m1000\u001b[0m\u001b[1;33m)\u001b[0m\u001b[1;33m\u001b[0m\u001b[1;33m\u001b[0m\u001b[0m\n\u001b[0;32m      4\u001b[0m \u001b[0mcamera2\u001b[0m\u001b[1;33m.\u001b[0m\u001b[0mset_control_value\u001b[0m\u001b[1;33m(\u001b[0m\u001b[0masi\u001b[0m\u001b[1;33m.\u001b[0m\u001b[0mASI_GAIN\u001b[0m\u001b[1;33m,\u001b[0m \u001b[1;36m1\u001b[0m\u001b[1;33m)\u001b[0m\u001b[1;33m\u001b[0m\u001b[1;33m\u001b[0m\u001b[0m\n\u001b[0;32m      5\u001b[0m \u001b[0mtest\u001b[0m\u001b[1;33m=\u001b[0m\u001b[0mcamera2\u001b[0m\u001b[1;33m.\u001b[0m\u001b[0mcapture\u001b[0m\u001b[1;33m(\u001b[0m\u001b[1;33m)\u001b[0m\u001b[1;33m\u001b[0m\u001b[1;33m\u001b[0m\u001b[0m\n",
      "\u001b[1;31mNameError\u001b[0m: name 'camera2' is not defined"
     ]
    }
   ],
   "source": [
    "figure(3)\n",
    "camera2.set_roi()\n",
    "camera2.set_control_value(asi.ASI_EXPOSURE, 10000)\n",
    "camera2.set_control_value(asi.ASI_GAIN, 550)\n",
    "test=camera2.capture()\n",
    "imshow(test)\n"
   ]
  },
  {
   "cell_type": "code",
   "execution_count": null,
   "id": "ed5114a5",
   "metadata": {},
   "outputs": [],
   "source": []
  },
  {
   "cell_type": "code",
   "execution_count": null,
   "id": "625541b4",
   "metadata": {},
   "outputs": [],
   "source": []
  }
 ],
 "metadata": {
  "kernelspec": {
   "display_name": "Python 3",
   "language": "python",
   "name": "python3"
  },
  "language_info": {
   "codemirror_mode": {
    "name": "ipython",
    "version": 3
   },
   "file_extension": ".py",
   "mimetype": "text/x-python",
   "name": "python",
   "nbconvert_exporter": "python",
   "pygments_lexer": "ipython3",
   "version": "3.7.4"
  }
 },
 "nbformat": 4,
 "nbformat_minor": 5
}
